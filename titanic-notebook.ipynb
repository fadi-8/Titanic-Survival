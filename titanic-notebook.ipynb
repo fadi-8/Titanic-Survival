{
 "cells": [
  {
   "cell_type": "code",
   "execution_count": 1,
   "id": "advisory-albert",
   "metadata": {
    "_cell_guid": "b1076dfc-b9ad-4769-8c92-a6c4dae69d19",
    "_uuid": "8f2839f25d086af736a60e9eeb907d3b93b6e0e5",
    "execution": {
     "iopub.execute_input": "2021-07-25T08:25:13.331116Z",
     "iopub.status.busy": "2021-07-25T08:25:13.329901Z",
     "iopub.status.idle": "2021-07-25T08:25:13.337343Z",
     "shell.execute_reply": "2021-07-25T08:25:13.338089Z",
     "shell.execute_reply.started": "2021-07-25T07:49:39.239874Z"
    },
    "papermill": {
     "duration": 0.048836,
     "end_time": "2021-07-25T08:25:13.338467",
     "exception": false,
     "start_time": "2021-07-25T08:25:13.289631",
     "status": "completed"
    },
    "tags": []
   },
   "outputs": [
    {
     "name": "stdout",
     "output_type": "stream",
     "text": [
      "/kaggle/input/titanic/train.csv\n",
      "/kaggle/input/titanic/test.csv\n",
      "/kaggle/input/titanic/gender_submission.csv\n"
     ]
    }
   ],
   "source": [
    "# This Python 3 environment comes with many helpful analytics libraries installed\n",
    "# It is defined by the kaggle/python Docker image: https://github.com/kaggle/docker-python\n",
    "# For example, here's several helpful packages to load\n",
    "\n",
    "import numpy as np # linear algebra\n",
    "import pandas as pd # data processing, CSV file I/O (e.g. pd.read_csv)\n",
    "\n",
    "# Input data files are available in the read-only \"../input/\" directory\n",
    "# For example, running this (by clicking run or pressing Shift+Enter) will list all files under the input directory\n",
    "\n",
    "import os\n",
    "for dirname, _, filenames in os.walk('/kaggle/input'):\n",
    "    for filename in filenames:\n",
    "        print(os.path.join(dirname, filename))\n",
    "\n",
    "# You can write up to 20GB to the current directory (/kaggle/working/) that gets preserved as output when you create a version using \"Save & Run All\" \n",
    "# You can also write temporary files to /kaggle/temp/, but they won't be saved outside of the current session"
   ]
  },
  {
   "cell_type": "code",
   "execution_count": 2,
   "id": "right-subsection",
   "metadata": {
    "execution": {
     "iopub.execute_input": "2021-07-25T08:25:13.423429Z",
     "iopub.status.busy": "2021-07-25T08:25:13.422317Z",
     "iopub.status.idle": "2021-07-25T08:25:21.331974Z",
     "shell.execute_reply": "2021-07-25T08:25:21.331228Z",
     "shell.execute_reply.started": "2021-07-25T07:49:39.659130Z"
    },
    "papermill": {
     "duration": 7.95596,
     "end_time": "2021-07-25T08:25:21.332130",
     "exception": false,
     "start_time": "2021-07-25T08:25:13.376170",
     "status": "completed"
    },
    "tags": []
   },
   "outputs": [
    {
     "data": {
      "text/html": [
       "<style type='text/css'>\n",
       ".datatable table.frame { margin-bottom: 0; }\n",
       ".datatable table.frame thead { border-bottom: none; }\n",
       ".datatable table.frame tr.coltypes td {  color: #FFFFFF;  line-height: 6px;  padding: 0 0.5em;}\n",
       ".datatable .bool    { background: #DDDD99; }\n",
       ".datatable .object  { background: #565656; }\n",
       ".datatable .int     { background: #5D9E5D; }\n",
       ".datatable .float   { background: #4040CC; }\n",
       ".datatable .str     { background: #CC4040; }\n",
       ".datatable .row_index {  background: var(--jp-border-color3);  border-right: 1px solid var(--jp-border-color0);  color: var(--jp-ui-font-color3);  font-size: 9px;}\n",
       ".datatable .frame tr.coltypes .row_index {  background: var(--jp-border-color0);}\n",
       ".datatable th:nth-child(2) { padding-left: 12px; }\n",
       ".datatable .hellipsis {  color: var(--jp-cell-editor-border-color);}\n",
       ".datatable .vellipsis {  background: var(--jp-layout-color0);  color: var(--jp-cell-editor-border-color);}\n",
       ".datatable .na {  color: var(--jp-cell-editor-border-color);  font-size: 80%;}\n",
       ".datatable .footer { font-size: 9px; }\n",
       ".datatable .frame_dimensions {  background: var(--jp-border-color3);  border-top: 1px solid var(--jp-border-color0);  color: var(--jp-ui-font-color3);  display: inline-block;  opacity: 0.6;  padding: 1px 10px 1px 5px;}\n",
       "</style>\n"
      ],
      "text/plain": [
       "<IPython.core.display.HTML object>"
      ]
     },
     "metadata": {},
     "output_type": "display_data"
    }
   ],
   "source": [
    "import seaborn as sns\n",
    "import matplotlib.pyplot as plt\n",
    "from sklearn.cluster import KMeans\n",
    "from sklearn.mixture import GaussianMixture\n",
    "from sklearn.ensemble import RandomForestClassifier\n",
    "from sklearn.linear_model import LogisticRegression\n",
    "from sklearn.model_selection import GridSearchCV \n",
    "from sklearn.model_selection import KFold\n",
    "from sklearn.preprocessing import power_transform\n",
    "from sklearn.metrics import confusion_matrix\n",
    "from boruta import BorutaPy\n",
    "from sklearn.model_selection import train_test_split\n",
    "import eli5\n",
    "from eli5.sklearn import PermutationImportance\n",
    "import pickle"
   ]
  },
  {
   "cell_type": "code",
   "execution_count": 3,
   "id": "balanced-parade",
   "metadata": {
    "execution": {
     "iopub.execute_input": "2021-07-25T08:25:21.410716Z",
     "iopub.status.busy": "2021-07-25T08:25:21.409705Z",
     "iopub.status.idle": "2021-07-25T08:25:21.412442Z",
     "shell.execute_reply": "2021-07-25T08:25:21.411906Z",
     "shell.execute_reply.started": "2021-07-25T07:49:46.890219Z"
    },
    "papermill": {
     "duration": 0.045133,
     "end_time": "2021-07-25T08:25:21.412582",
     "exception": false,
     "start_time": "2021-07-25T08:25:21.367449",
     "status": "completed"
    },
    "tags": []
   },
   "outputs": [],
   "source": [
    "target_column='Survived'\n",
    "visualize_column = 'Sex'\n",
    "\n",
    "def prob_surviving(visualize_column):\n",
    "    group = train_df.groupby(by=[visualize_column])\n",
    "\n",
    "    for index, g in group:\n",
    "        print(f'value = {index}')\n",
    "        survived = g[target_column].sum()\n",
    "        total = g[target_column].count()\n",
    "        print(survived,' Survived from ',total)\n",
    "        print(f'probability of surviving knowing {index} is {round(survived/total,2)}')\n",
    "        print(f'probability of dying knowing {index} is {round(1-survived/total,2)}','\\n\\n')"
   ]
  },
  {
   "cell_type": "code",
   "execution_count": 4,
   "id": "adequate-morgan",
   "metadata": {
    "execution": {
     "iopub.execute_input": "2021-07-25T08:25:21.490343Z",
     "iopub.status.busy": "2021-07-25T08:25:21.489553Z",
     "iopub.status.idle": "2021-07-25T08:25:21.493153Z",
     "shell.execute_reply": "2021-07-25T08:25:21.492603Z",
     "shell.execute_reply.started": "2021-07-25T07:49:46.905691Z"
    },
    "papermill": {
     "duration": 0.046093,
     "end_time": "2021-07-25T08:25:21.493305",
     "exception": false,
     "start_time": "2021-07-25T08:25:21.447212",
     "status": "completed"
    },
    "tags": []
   },
   "outputs": [],
   "source": [
    "def cluster_feature(org_df,n_clusters,column,random_state=29):\n",
    "    \n",
    "    df=org_df[org_df['trainable']==1]\n",
    "    \n",
    "    df=df[df[column].notnull()].copy()\n",
    "    classify_feature=KMeans(n_clusters=n_clusters,random_state=random_state).fit(df[column].values.reshape([-1,1]))\n",
    "\n",
    "    #df[column]=classify_feature.labels_\n",
    "    #df['Age']=df['Age'].apply(lambda x: int(x/10)*10 if not np.isnan(x) else np.nan)\n",
    "    org_df[column]=org_df[column].apply( lambda x:\n",
    "        x if np.isnan(x) else classify_feature.predict([[x]])[0])\n",
    "    #df[column]\n",
    "    print(str(column)+' culsters are: \\n',classify_feature.cluster_centers_,'\\n')\n",
    "    return classify_feature,org_df"
   ]
  },
  {
   "cell_type": "code",
   "execution_count": 5,
   "id": "eligible-channels",
   "metadata": {
    "execution": {
     "iopub.execute_input": "2021-07-25T08:25:21.571964Z",
     "iopub.status.busy": "2021-07-25T08:25:21.570925Z",
     "iopub.status.idle": "2021-07-25T08:25:21.574448Z",
     "shell.execute_reply": "2021-07-25T08:25:21.573789Z",
     "shell.execute_reply.started": "2021-07-25T07:49:46.920643Z"
    },
    "papermill": {
     "duration": 0.046444,
     "end_time": "2021-07-25T08:25:21.574602",
     "exception": false,
     "start_time": "2021-07-25T08:25:21.528158",
     "status": "completed"
    },
    "tags": []
   },
   "outputs": [],
   "source": [
    "def convert_int(df,column):\n",
    "    \n",
    "    df[column]=df[column].str.extract(r'((\\s?)\\d+$)')\n",
    "    df[column]=df[column].str.replace(' ','').apply(lambda x: int(x) if type(x)==str else x)\n",
    "    \n",
    "    return df\n",
    "\n",
    "def get_mean_unbiased(df,column,low_per,high_per):\n",
    "    \n",
    "    cal_df=df[df[column].notnull()]\n",
    "    \n",
    "    s=cal_df[column].quantile([low_per,high_per])\n",
    "    val_min,val_max=s.iloc[0],s.iloc[1]\n",
    "    \n",
    "    cal_df=cal_df[(cal_df[column]>val_min) & (cal_df[column]<val_max)]\n",
    "    \n",
    "    return cal_df[column].mean()"
   ]
  },
  {
   "cell_type": "code",
   "execution_count": 6,
   "id": "undefined-january",
   "metadata": {
    "execution": {
     "iopub.execute_input": "2021-07-25T08:25:21.653147Z",
     "iopub.status.busy": "2021-07-25T08:25:21.652441Z",
     "iopub.status.idle": "2021-07-25T08:25:21.655640Z",
     "shell.execute_reply": "2021-07-25T08:25:21.655046Z",
     "shell.execute_reply.started": "2021-07-25T07:49:46.940620Z"
    },
    "papermill": {
     "duration": 0.045005,
     "end_time": "2021-07-25T08:25:21.655810",
     "exception": false,
     "start_time": "2021-07-25T08:25:21.610805",
     "status": "completed"
    },
    "tags": []
   },
   "outputs": [],
   "source": [
    "def fill_missing_age_wtitle(df,func=np.max):\n",
    "    #sns.countplot(x='Title',hue='Age',data=df)\n",
    "    #df['Title'].unique()\n",
    "    #sns.countplot(x='Age',hue='Title',data=df)\n",
    "    #plt.legend(bbox_to_anchor=(1.01, 1),borderaxespad=0)\n",
    "\n",
    "    #Fill age nan values with the most probable value according to the title of the person\n",
    "    df['Age']=df.apply(lambda row: func(gr_age[row['Title']].index.values) if np.isnan(row['Age']) else row['Age'],axis=1)\n",
    "    print(df['Age'])\n",
    "    return df"
   ]
  },
  {
   "cell_type": "code",
   "execution_count": 7,
   "id": "incident-channel",
   "metadata": {
    "execution": {
     "iopub.execute_input": "2021-07-25T08:25:21.733829Z",
     "iopub.status.busy": "2021-07-25T08:25:21.732990Z",
     "iopub.status.idle": "2021-07-25T08:25:21.736231Z",
     "shell.execute_reply": "2021-07-25T08:25:21.735557Z",
     "shell.execute_reply.started": "2021-07-25T07:49:46.954274Z"
    },
    "papermill": {
     "duration": 0.045294,
     "end_time": "2021-07-25T08:25:21.736377",
     "exception": false,
     "start_time": "2021-07-25T08:25:21.691083",
     "status": "completed"
    },
    "tags": []
   },
   "outputs": [],
   "source": [
    "def fill_embarked_wticket(df,column='Ticket'):\n",
    "\n",
    "    df['Embarked']=df.apply(lambda row: np.max(gr_ticket[row[column]].index.values) if type(row['Embarked'])==float else row['Embarked'],axis=1)\n",
    "    \n",
    "    return df"
   ]
  },
  {
   "cell_type": "code",
   "execution_count": 8,
   "id": "particular-credits",
   "metadata": {
    "execution": {
     "iopub.execute_input": "2021-07-25T08:25:21.816668Z",
     "iopub.status.busy": "2021-07-25T08:25:21.815632Z",
     "iopub.status.idle": "2021-07-25T08:25:21.818919Z",
     "shell.execute_reply": "2021-07-25T08:25:21.818269Z",
     "shell.execute_reply.started": "2021-07-25T07:49:46.969569Z"
    },
    "papermill": {
     "duration": 0.046605,
     "end_time": "2021-07-25T08:25:21.819079",
     "exception": false,
     "start_time": "2021-07-25T08:25:21.772474",
     "status": "completed"
    },
    "tags": []
   },
   "outputs": [],
   "source": [
    "def reorder_clusters(clusters,df,column):\n",
    "    '''\n",
    "    clusters is the output of kmean.cluster_centers_\n",
    "    '''\n",
    "    clusters=np.array(clusters).ravel()\n",
    "    print(clusters)\n",
    "    ordered_clusters=np.sort(clusters)# sort in ascending order\n",
    "    \n",
    "    reorder_dict={}\n",
    "    for cluster_id in range(len(clusters)):\n",
    "        val=clusters[cluster_id]\n",
    "        new_cluster_id=np.where(ordered_clusters==val)# get the index of the val in ordered cluster\n",
    "        reorder_dict[cluster_id]=new_cluster_id[0][0]\n",
    "    \n",
    "    #reorder dictionary maps the current value to its supposed valu if reordered.\n",
    "    #for example cluster 0 of age may have center of 53. if the clusters were ordered, then it should\n",
    "    #be cluster 3. thus, this dictionary has the current cluster id (0) as key and the cluster id if\n",
    "    #reordered as value\n",
    "    \n",
    "    df[column]=df[column].apply(lambda x: reorder_dict[int(x)])\n",
    "    \n",
    "    print(reorder_dict)\n",
    "    return ordered_clusters,df\n",
    "    "
   ]
  },
  {
   "cell_type": "markdown",
   "id": "arabic-foundation",
   "metadata": {
    "papermill": {
     "duration": 0.034598,
     "end_time": "2021-07-25T08:25:21.889470",
     "exception": false,
     "start_time": "2021-07-25T08:25:21.854872",
     "status": "completed"
    },
    "tags": []
   },
   "source": [
    "<h1 style=\"color: #00FF00\"> LOAD THE DATA </h1>"
   ]
  },
  {
   "cell_type": "code",
   "execution_count": 9,
   "id": "twenty-vertical",
   "metadata": {
    "execution": {
     "iopub.execute_input": "2021-07-25T08:25:21.964984Z",
     "iopub.status.busy": "2021-07-25T08:25:21.964077Z",
     "iopub.status.idle": "2021-07-25T08:25:22.011553Z",
     "shell.execute_reply": "2021-07-25T08:25:22.010961Z",
     "shell.execute_reply.started": "2021-07-25T07:49:46.987851Z"
    },
    "papermill": {
     "duration": 0.087232,
     "end_time": "2021-07-25T08:25:22.011705",
     "exception": false,
     "start_time": "2021-07-25T08:25:21.924473",
     "status": "completed"
    },
    "tags": []
   },
   "outputs": [
    {
     "data": {
      "text/html": [
       "<div>\n",
       "<style scoped>\n",
       "    .dataframe tbody tr th:only-of-type {\n",
       "        vertical-align: middle;\n",
       "    }\n",
       "\n",
       "    .dataframe tbody tr th {\n",
       "        vertical-align: top;\n",
       "    }\n",
       "\n",
       "    .dataframe thead th {\n",
       "        text-align: right;\n",
       "    }\n",
       "</style>\n",
       "<table border=\"1\" class=\"dataframe\">\n",
       "  <thead>\n",
       "    <tr style=\"text-align: right;\">\n",
       "      <th></th>\n",
       "      <th>PassengerId</th>\n",
       "      <th>Survived</th>\n",
       "      <th>Pclass</th>\n",
       "      <th>Name</th>\n",
       "      <th>Sex</th>\n",
       "      <th>Age</th>\n",
       "      <th>SibSp</th>\n",
       "      <th>Parch</th>\n",
       "      <th>Ticket</th>\n",
       "      <th>Fare</th>\n",
       "      <th>Cabin</th>\n",
       "      <th>Embarked</th>\n",
       "    </tr>\n",
       "  </thead>\n",
       "  <tbody>\n",
       "    <tr>\n",
       "      <th>0</th>\n",
       "      <td>1</td>\n",
       "      <td>0</td>\n",
       "      <td>3</td>\n",
       "      <td>Braund, Mr. Owen Harris</td>\n",
       "      <td>male</td>\n",
       "      <td>22.0</td>\n",
       "      <td>1</td>\n",
       "      <td>0</td>\n",
       "      <td>A/5 21171</td>\n",
       "      <td>7.2500</td>\n",
       "      <td>NaN</td>\n",
       "      <td>S</td>\n",
       "    </tr>\n",
       "    <tr>\n",
       "      <th>1</th>\n",
       "      <td>2</td>\n",
       "      <td>1</td>\n",
       "      <td>1</td>\n",
       "      <td>Cumings, Mrs. John Bradley (Florence Briggs Th...</td>\n",
       "      <td>female</td>\n",
       "      <td>38.0</td>\n",
       "      <td>1</td>\n",
       "      <td>0</td>\n",
       "      <td>PC 17599</td>\n",
       "      <td>71.2833</td>\n",
       "      <td>C85</td>\n",
       "      <td>C</td>\n",
       "    </tr>\n",
       "    <tr>\n",
       "      <th>2</th>\n",
       "      <td>3</td>\n",
       "      <td>1</td>\n",
       "      <td>3</td>\n",
       "      <td>Heikkinen, Miss. Laina</td>\n",
       "      <td>female</td>\n",
       "      <td>26.0</td>\n",
       "      <td>0</td>\n",
       "      <td>0</td>\n",
       "      <td>STON/O2. 3101282</td>\n",
       "      <td>7.9250</td>\n",
       "      <td>NaN</td>\n",
       "      <td>S</td>\n",
       "    </tr>\n",
       "    <tr>\n",
       "      <th>3</th>\n",
       "      <td>4</td>\n",
       "      <td>1</td>\n",
       "      <td>1</td>\n",
       "      <td>Futrelle, Mrs. Jacques Heath (Lily May Peel)</td>\n",
       "      <td>female</td>\n",
       "      <td>35.0</td>\n",
       "      <td>1</td>\n",
       "      <td>0</td>\n",
       "      <td>113803</td>\n",
       "      <td>53.1000</td>\n",
       "      <td>C123</td>\n",
       "      <td>S</td>\n",
       "    </tr>\n",
       "    <tr>\n",
       "      <th>4</th>\n",
       "      <td>5</td>\n",
       "      <td>0</td>\n",
       "      <td>3</td>\n",
       "      <td>Allen, Mr. William Henry</td>\n",
       "      <td>male</td>\n",
       "      <td>35.0</td>\n",
       "      <td>0</td>\n",
       "      <td>0</td>\n",
       "      <td>373450</td>\n",
       "      <td>8.0500</td>\n",
       "      <td>NaN</td>\n",
       "      <td>S</td>\n",
       "    </tr>\n",
       "  </tbody>\n",
       "</table>\n",
       "</div>"
      ],
      "text/plain": [
       "   PassengerId  Survived  Pclass  \\\n",
       "0            1         0       3   \n",
       "1            2         1       1   \n",
       "2            3         1       3   \n",
       "3            4         1       1   \n",
       "4            5         0       3   \n",
       "\n",
       "                                                Name     Sex   Age  SibSp  \\\n",
       "0                            Braund, Mr. Owen Harris    male  22.0      1   \n",
       "1  Cumings, Mrs. John Bradley (Florence Briggs Th...  female  38.0      1   \n",
       "2                             Heikkinen, Miss. Laina  female  26.0      0   \n",
       "3       Futrelle, Mrs. Jacques Heath (Lily May Peel)  female  35.0      1   \n",
       "4                           Allen, Mr. William Henry    male  35.0      0   \n",
       "\n",
       "   Parch            Ticket     Fare Cabin Embarked  \n",
       "0      0         A/5 21171   7.2500   NaN        S  \n",
       "1      0          PC 17599  71.2833   C85        C  \n",
       "2      0  STON/O2. 3101282   7.9250   NaN        S  \n",
       "3      0            113803  53.1000  C123        S  \n",
       "4      0            373450   8.0500   NaN        S  "
      ]
     },
     "execution_count": 9,
     "metadata": {},
     "output_type": "execute_result"
    }
   ],
   "source": [
    "train_df = pd.read_csv('/kaggle/input/titanic/train.csv')\n",
    "train_df.head()"
   ]
  },
  {
   "cell_type": "code",
   "execution_count": 10,
   "id": "combined-secret",
   "metadata": {
    "execution": {
     "iopub.execute_input": "2021-07-25T08:25:22.088089Z",
     "iopub.status.busy": "2021-07-25T08:25:22.087352Z",
     "iopub.status.idle": "2021-07-25T08:25:22.112452Z",
     "shell.execute_reply": "2021-07-25T08:25:22.112967Z",
     "shell.execute_reply.started": "2021-07-25T07:49:47.050405Z"
    },
    "papermill": {
     "duration": 0.066085,
     "end_time": "2021-07-25T08:25:22.113149",
     "exception": false,
     "start_time": "2021-07-25T08:25:22.047064",
     "status": "completed"
    },
    "tags": []
   },
   "outputs": [
    {
     "data": {
      "text/html": [
       "<div>\n",
       "<style scoped>\n",
       "    .dataframe tbody tr th:only-of-type {\n",
       "        vertical-align: middle;\n",
       "    }\n",
       "\n",
       "    .dataframe tbody tr th {\n",
       "        vertical-align: top;\n",
       "    }\n",
       "\n",
       "    .dataframe thead th {\n",
       "        text-align: right;\n",
       "    }\n",
       "</style>\n",
       "<table border=\"1\" class=\"dataframe\">\n",
       "  <thead>\n",
       "    <tr style=\"text-align: right;\">\n",
       "      <th></th>\n",
       "      <th>PassengerId</th>\n",
       "      <th>Pclass</th>\n",
       "      <th>Name</th>\n",
       "      <th>Sex</th>\n",
       "      <th>Age</th>\n",
       "      <th>SibSp</th>\n",
       "      <th>Parch</th>\n",
       "      <th>Ticket</th>\n",
       "      <th>Fare</th>\n",
       "      <th>Cabin</th>\n",
       "      <th>Embarked</th>\n",
       "    </tr>\n",
       "  </thead>\n",
       "  <tbody>\n",
       "    <tr>\n",
       "      <th>0</th>\n",
       "      <td>892</td>\n",
       "      <td>3</td>\n",
       "      <td>Kelly, Mr. James</td>\n",
       "      <td>male</td>\n",
       "      <td>34.5</td>\n",
       "      <td>0</td>\n",
       "      <td>0</td>\n",
       "      <td>330911</td>\n",
       "      <td>7.8292</td>\n",
       "      <td>NaN</td>\n",
       "      <td>Q</td>\n",
       "    </tr>\n",
       "    <tr>\n",
       "      <th>1</th>\n",
       "      <td>893</td>\n",
       "      <td>3</td>\n",
       "      <td>Wilkes, Mrs. James (Ellen Needs)</td>\n",
       "      <td>female</td>\n",
       "      <td>47.0</td>\n",
       "      <td>1</td>\n",
       "      <td>0</td>\n",
       "      <td>363272</td>\n",
       "      <td>7.0000</td>\n",
       "      <td>NaN</td>\n",
       "      <td>S</td>\n",
       "    </tr>\n",
       "    <tr>\n",
       "      <th>2</th>\n",
       "      <td>894</td>\n",
       "      <td>2</td>\n",
       "      <td>Myles, Mr. Thomas Francis</td>\n",
       "      <td>male</td>\n",
       "      <td>62.0</td>\n",
       "      <td>0</td>\n",
       "      <td>0</td>\n",
       "      <td>240276</td>\n",
       "      <td>9.6875</td>\n",
       "      <td>NaN</td>\n",
       "      <td>Q</td>\n",
       "    </tr>\n",
       "    <tr>\n",
       "      <th>3</th>\n",
       "      <td>895</td>\n",
       "      <td>3</td>\n",
       "      <td>Wirz, Mr. Albert</td>\n",
       "      <td>male</td>\n",
       "      <td>27.0</td>\n",
       "      <td>0</td>\n",
       "      <td>0</td>\n",
       "      <td>315154</td>\n",
       "      <td>8.6625</td>\n",
       "      <td>NaN</td>\n",
       "      <td>S</td>\n",
       "    </tr>\n",
       "    <tr>\n",
       "      <th>4</th>\n",
       "      <td>896</td>\n",
       "      <td>3</td>\n",
       "      <td>Hirvonen, Mrs. Alexander (Helga E Lindqvist)</td>\n",
       "      <td>female</td>\n",
       "      <td>22.0</td>\n",
       "      <td>1</td>\n",
       "      <td>1</td>\n",
       "      <td>3101298</td>\n",
       "      <td>12.2875</td>\n",
       "      <td>NaN</td>\n",
       "      <td>S</td>\n",
       "    </tr>\n",
       "  </tbody>\n",
       "</table>\n",
       "</div>"
      ],
      "text/plain": [
       "   PassengerId  Pclass                                          Name     Sex  \\\n",
       "0          892       3                              Kelly, Mr. James    male   \n",
       "1          893       3              Wilkes, Mrs. James (Ellen Needs)  female   \n",
       "2          894       2                     Myles, Mr. Thomas Francis    male   \n",
       "3          895       3                              Wirz, Mr. Albert    male   \n",
       "4          896       3  Hirvonen, Mrs. Alexander (Helga E Lindqvist)  female   \n",
       "\n",
       "    Age  SibSp  Parch   Ticket     Fare Cabin Embarked  \n",
       "0  34.5      0      0   330911   7.8292   NaN        Q  \n",
       "1  47.0      1      0   363272   7.0000   NaN        S  \n",
       "2  62.0      0      0   240276   9.6875   NaN        Q  \n",
       "3  27.0      0      0   315154   8.6625   NaN        S  \n",
       "4  22.0      1      1  3101298  12.2875   NaN        S  "
      ]
     },
     "execution_count": 10,
     "metadata": {},
     "output_type": "execute_result"
    }
   ],
   "source": [
    "test_df = pd.read_csv('/kaggle/input/titanic/test.csv')\n",
    "test_df.head()"
   ]
  },
  {
   "cell_type": "code",
   "execution_count": 11,
   "id": "executive-comedy",
   "metadata": {
    "execution": {
     "iopub.execute_input": "2021-07-25T08:25:22.188521Z",
     "iopub.status.busy": "2021-07-25T08:25:22.187538Z",
     "iopub.status.idle": "2021-07-25T08:25:22.213752Z",
     "shell.execute_reply": "2021-07-25T08:25:22.213208Z",
     "shell.execute_reply.started": "2021-07-25T07:49:47.080299Z"
    },
    "papermill": {
     "duration": 0.06507,
     "end_time": "2021-07-25T08:25:22.213900",
     "exception": false,
     "start_time": "2021-07-25T08:25:22.148830",
     "status": "completed"
    },
    "tags": []
   },
   "outputs": [
    {
     "data": {
      "text/plain": [
       "PassengerId    0.000000\n",
       "Survived       0.000000\n",
       "Pclass         0.000000\n",
       "Name           0.000000\n",
       "Sex            0.000000\n",
       "Age            0.198653\n",
       "SibSp          0.000000\n",
       "Parch          0.000000\n",
       "Ticket         0.000000\n",
       "Fare           0.000000\n",
       "Cabin          0.771044\n",
       "Embarked       0.002245\n",
       "dtype: float64"
      ]
     },
     "execution_count": 11,
     "metadata": {},
     "output_type": "execute_result"
    }
   ],
   "source": [
    "pd.isna(train_df).sum()/len(train_df)"
   ]
  },
  {
   "cell_type": "markdown",
   "id": "vietnamese-practice",
   "metadata": {
    "papermill": {
     "duration": 0.036017,
     "end_time": "2021-07-25T08:25:22.286309",
     "exception": false,
     "start_time": "2021-07-25T08:25:22.250292",
     "status": "completed"
    },
    "tags": []
   },
   "source": [
    "<p>20% of the data does not contain Age. It can still be used</p>\n",
    "<p>While 77% of the data does not contain a Cabin value. It will not be used since there are a lot of missing values.</p>"
   ]
  },
  {
   "cell_type": "code",
   "execution_count": 12,
   "id": "pleasant-courtesy",
   "metadata": {
    "execution": {
     "iopub.execute_input": "2021-07-25T08:25:22.368022Z",
     "iopub.status.busy": "2021-07-25T08:25:22.366992Z",
     "iopub.status.idle": "2021-07-25T08:25:22.371668Z",
     "shell.execute_reply": "2021-07-25T08:25:22.371082Z",
     "shell.execute_reply.started": "2021-07-25T07:49:47.112379Z"
    },
    "papermill": {
     "duration": 0.049294,
     "end_time": "2021-07-25T08:25:22.371824",
     "exception": false,
     "start_time": "2021-07-25T08:25:22.322530",
     "status": "completed"
    },
    "tags": []
   },
   "outputs": [
    {
     "data": {
      "text/plain": [
       "PassengerId    0.000000\n",
       "Pclass         0.000000\n",
       "Name           0.000000\n",
       "Sex            0.000000\n",
       "Age            0.205742\n",
       "SibSp          0.000000\n",
       "Parch          0.000000\n",
       "Ticket         0.000000\n",
       "Fare           0.002392\n",
       "Cabin          0.782297\n",
       "Embarked       0.000000\n",
       "dtype: float64"
      ]
     },
     "execution_count": 12,
     "metadata": {},
     "output_type": "execute_result"
    }
   ],
   "source": [
    "pd.isna(test_df).sum()/len(test_df)"
   ]
  },
  {
   "cell_type": "markdown",
   "id": "dressed-chinese",
   "metadata": {
    "papermill": {
     "duration": 0.03633,
     "end_time": "2021-07-25T08:25:22.445426",
     "exception": false,
     "start_time": "2021-07-25T08:25:22.409096",
     "status": "completed"
    },
    "tags": []
   },
   "source": [
    "<h1 style=\"color: #00FF00\"> Visualization </h1>"
   ]
  },
  {
   "cell_type": "code",
   "execution_count": 13,
   "id": "regional-sixth",
   "metadata": {
    "_kg_hide-input": false,
    "_kg_hide-output": false,
    "execution": {
     "iopub.execute_input": "2021-07-25T08:25:22.526355Z",
     "iopub.status.busy": "2021-07-25T08:25:22.525447Z",
     "iopub.status.idle": "2021-07-25T08:25:22.548569Z",
     "shell.execute_reply": "2021-07-25T08:25:22.547614Z",
     "shell.execute_reply.started": "2021-07-25T07:49:47.124074Z"
    },
    "papermill": {
     "duration": 0.06672,
     "end_time": "2021-07-25T08:25:22.548789",
     "exception": false,
     "start_time": "2021-07-25T08:25:22.482069",
     "status": "completed"
    },
    "tags": []
   },
   "outputs": [
    {
     "name": "stdout",
     "output_type": "stream",
     "text": [
      "Sex\n",
      "value = female\n",
      "233  Survived from  314\n",
      "probability of surviving knowing female is 0.74\n",
      "probability of dying knowing female is 0.26 \n",
      "\n",
      "\n",
      "value = male\n",
      "109  Survived from  577\n",
      "probability of surviving knowing male is 0.19\n",
      "probability of dying knowing male is 0.81 \n",
      "\n",
      "\n",
      "Pclass\n",
      "value = 1\n",
      "136  Survived from  216\n",
      "probability of surviving knowing 1 is 0.63\n",
      "probability of dying knowing 1 is 0.37 \n",
      "\n",
      "\n",
      "value = 2\n",
      "87  Survived from  184\n",
      "probability of surviving knowing 2 is 0.47\n",
      "probability of dying knowing 2 is 0.53 \n",
      "\n",
      "\n",
      "value = 3\n",
      "119  Survived from  491\n",
      "probability of surviving knowing 3 is 0.24\n",
      "probability of dying knowing 3 is 0.76 \n",
      "\n",
      "\n",
      "Embarked\n",
      "value = C\n",
      "93  Survived from  168\n",
      "probability of surviving knowing C is 0.55\n",
      "probability of dying knowing C is 0.45 \n",
      "\n",
      "\n",
      "value = Q\n",
      "30  Survived from  77\n",
      "probability of surviving knowing Q is 0.39\n",
      "probability of dying knowing Q is 0.61 \n",
      "\n",
      "\n",
      "value = S\n",
      "217  Survived from  644\n",
      "probability of surviving knowing S is 0.34\n",
      "probability of dying knowing S is 0.66 \n",
      "\n",
      "\n"
     ]
    }
   ],
   "source": [
    "for feature in ['Sex','Pclass','Embarked']:\n",
    "    print(feature)\n",
    "    prob_surviving(feature)"
   ]
  },
  {
   "cell_type": "code",
   "execution_count": 14,
   "id": "annual-diesel",
   "metadata": {
    "execution": {
     "iopub.execute_input": "2021-07-25T08:25:22.633580Z",
     "iopub.status.busy": "2021-07-25T08:25:22.632957Z",
     "iopub.status.idle": "2021-07-25T08:25:22.970564Z",
     "shell.execute_reply": "2021-07-25T08:25:22.971125Z",
     "shell.execute_reply.started": "2021-07-25T07:49:47.153747Z"
    },
    "papermill": {
     "duration": 0.384379,
     "end_time": "2021-07-25T08:25:22.971347",
     "exception": false,
     "start_time": "2021-07-25T08:25:22.586968",
     "status": "completed"
    },
    "tags": []
   },
   "outputs": [
    {
     "data": {
      "text/plain": [
       "<AxesSubplot:xlabel='Survived', ylabel='count'>"
      ]
     },
     "execution_count": 14,
     "metadata": {},
     "output_type": "execute_result"
    },
    {
     "data": {
      "image/png": "[encoded data removed]",
      "text/plain": [
       "<Figure size 432x288 with 1 Axes>"
      ]
     },
     "metadata": {
      "needs_background": "light"
     },
     "output_type": "display_data"
    }
   ],
   "source": [
    "sns.countplot(x=target_column,hue='Sex',data=train_df)"
   ]
  },
  {
   "cell_type": "code",
   "execution_count": 15,
   "id": "fixed-purchase",
   "metadata": {
    "execution": {
     "iopub.execute_input": "2021-07-25T08:25:23.055383Z",
     "iopub.status.busy": "2021-07-25T08:25:23.054328Z",
     "iopub.status.idle": "2021-07-25T08:25:23.274698Z",
     "shell.execute_reply": "2021-07-25T08:25:23.274116Z",
     "shell.execute_reply.started": "2021-07-25T07:49:47.340104Z"
    },
    "papermill": {
     "duration": 0.264851,
     "end_time": "2021-07-25T08:25:23.274864",
     "exception": false,
     "start_time": "2021-07-25T08:25:23.010013",
     "status": "completed"
    },
    "tags": []
   },
   "outputs": [
    {
     "data": {
      "text/plain": [
       "<AxesSubplot:xlabel='Survived', ylabel='count'>"
      ]
     },
     "execution_count": 15,
     "metadata": {},
     "output_type": "execute_result"
    },
    {
     "data": {
      "image/png": "[encoded data removed]",
      "text/plain": [
       "<Figure size 432x288 with 1 Axes>"
      ]
     },
     "metadata": {
      "needs_background": "light"
     },
     "output_type": "display_data"
    }
   ],
   "source": [
    "sns.countplot(x=target_column,hue='SibSp',data=train_df)"
   ]
  },
  {
   "cell_type": "code",
   "execution_count": 16,
   "id": "powered-image",
   "metadata": {
    "execution": {
     "iopub.execute_input": "2021-07-25T08:25:23.360622Z",
     "iopub.status.busy": "2021-07-25T08:25:23.359640Z",
     "iopub.status.idle": "2021-07-25T08:25:23.555099Z",
     "shell.execute_reply": "2021-07-25T08:25:23.554503Z",
     "shell.execute_reply.started": "2021-07-25T07:49:47.573393Z"
    },
    "papermill": {
     "duration": 0.240976,
     "end_time": "2021-07-25T08:25:23.555243",
     "exception": false,
     "start_time": "2021-07-25T08:25:23.314267",
     "status": "completed"
    },
    "tags": []
   },
   "outputs": [
    {
     "data": {
      "text/plain": [
       "<AxesSubplot:xlabel='Survived', ylabel='count'>"
      ]
     },
     "execution_count": 16,
     "metadata": {},
     "output_type": "execute_result"
    },
    {
     "data": {
      "image/png": "[encoded data removed]",
      "text/plain": [
       "<Figure size 432x288 with 1 Axes>"
      ]
     },
     "metadata": {
      "needs_background": "light"
     },
     "output_type": "display_data"
    }
   ],
   "source": [
    "sns.countplot(x=target_column,hue='Parch',data=train_df)"
   ]
  },
  {
   "cell_type": "code",
   "execution_count": 17,
   "id": "modular-staff",
   "metadata": {
    "execution": {
     "iopub.execute_input": "2021-07-25T08:25:23.643455Z",
     "iopub.status.busy": "2021-07-25T08:25:23.642161Z",
     "iopub.status.idle": "2021-07-25T08:25:23.804653Z",
     "shell.execute_reply": "2021-07-25T08:25:23.804101Z",
     "shell.execute_reply.started": "2021-07-25T07:49:47.782460Z"
    },
    "papermill": {
     "duration": 0.207599,
     "end_time": "2021-07-25T08:25:23.804834",
     "exception": false,
     "start_time": "2021-07-25T08:25:23.597235",
     "status": "completed"
    },
    "tags": []
   },
   "outputs": [
    {
     "data": {
      "text/plain": [
       "<AxesSubplot:xlabel='Survived', ylabel='count'>"
      ]
     },
     "execution_count": 17,
     "metadata": {},
     "output_type": "execute_result"
    },
    {
     "data": {
      "image/png": "[encoded data removed]",
      "text/plain": [
       "<Figure size 432x288 with 1 Axes>"
      ]
     },
     "metadata": {
      "needs_background": "light"
     },
     "output_type": "display_data"
    }
   ],
   "source": [
    "sns.countplot(x=target_column,hue='Pclass',data=train_df)"
   ]
  },
  {
   "cell_type": "code",
   "execution_count": 18,
   "id": "olive-kruger",
   "metadata": {
    "execution": {
     "iopub.execute_input": "2021-07-25T08:25:23.919534Z",
     "iopub.status.busy": "2021-07-25T08:25:23.894851Z",
     "iopub.status.idle": "2021-07-25T08:25:24.067092Z",
     "shell.execute_reply": "2021-07-25T08:25:24.066354Z",
     "shell.execute_reply.started": "2021-07-25T07:49:47.947959Z"
    },
    "papermill": {
     "duration": 0.220263,
     "end_time": "2021-07-25T08:25:24.067249",
     "exception": false,
     "start_time": "2021-07-25T08:25:23.846986",
     "status": "completed"
    },
    "tags": []
   },
   "outputs": [
    {
     "data": {
      "text/plain": [
       "<AxesSubplot:xlabel='Survived', ylabel='count'>"
      ]
     },
     "execution_count": 18,
     "metadata": {},
     "output_type": "execute_result"
    },
    {
     "data": {
      "image/png": "[encoded data removed]",
      "text/plain": [
       "<Figure size 432x288 with 1 Axes>"
      ]
     },
     "metadata": {
      "needs_background": "light"
     },
     "output_type": "display_data"
    }
   ],
   "source": [
    "sns.countplot(x=target_column,hue='Embarked',data=train_df)"
   ]
  },
  {
   "cell_type": "code",
   "execution_count": 19,
   "id": "sexual-oxford",
   "metadata": {
    "execution": {
     "iopub.execute_input": "2021-07-25T08:25:24.157322Z",
     "iopub.status.busy": "2021-07-25T08:25:24.156568Z",
     "iopub.status.idle": "2021-07-25T08:25:24.159813Z",
     "shell.execute_reply": "2021-07-25T08:25:24.160266Z",
     "shell.execute_reply.started": "2021-07-25T07:49:48.123858Z"
    },
    "papermill": {
     "duration": 0.050921,
     "end_time": "2021-07-25T08:25:24.160442",
     "exception": false,
     "start_time": "2021-07-25T08:25:24.109521",
     "status": "completed"
    },
    "tags": []
   },
   "outputs": [],
   "source": [
    "df=train_df.copy()"
   ]
  },
  {
   "cell_type": "markdown",
   "id": "universal-wells",
   "metadata": {
    "papermill": {
     "duration": 0.041665,
     "end_time": "2021-07-25T08:25:24.244511",
     "exception": false,
     "start_time": "2021-07-25T08:25:24.202846",
     "status": "completed"
    },
    "tags": []
   },
   "source": [
    "<h1 style=\"color: #00FF00\"> Prepare The Data </h1>"
   ]
  },
  {
   "cell_type": "code",
   "execution_count": 20,
   "id": "dominican-shoot",
   "metadata": {
    "execution": {
     "iopub.execute_input": "2021-07-25T08:25:24.348135Z",
     "iopub.status.busy": "2021-07-25T08:25:24.335221Z",
     "iopub.status.idle": "2021-07-25T08:25:24.372034Z",
     "shell.execute_reply": "2021-07-25T08:25:24.372493Z",
     "shell.execute_reply.started": "2021-07-25T07:49:48.134076Z"
    },
    "papermill": {
     "duration": 0.08576,
     "end_time": "2021-07-25T08:25:24.372676",
     "exception": false,
     "start_time": "2021-07-25T08:25:24.286916",
     "status": "completed"
    },
    "tags": []
   },
   "outputs": [
    {
     "data": {
      "text/html": [
       "<div>\n",
       "<style scoped>\n",
       "    .dataframe tbody tr th:only-of-type {\n",
       "        vertical-align: middle;\n",
       "    }\n",
       "\n",
       "    .dataframe tbody tr th {\n",
       "        vertical-align: top;\n",
       "    }\n",
       "\n",
       "    .dataframe thead th {\n",
       "        text-align: right;\n",
       "    }\n",
       "</style>\n",
       "<table border=\"1\" class=\"dataframe\">\n",
       "  <thead>\n",
       "    <tr style=\"text-align: right;\">\n",
       "      <th></th>\n",
       "      <th>PassengerId</th>\n",
       "      <th>Survived</th>\n",
       "      <th>Pclass</th>\n",
       "      <th>Name</th>\n",
       "      <th>Sex</th>\n",
       "      <th>Age</th>\n",
       "      <th>SibSp</th>\n",
       "      <th>Parch</th>\n",
       "      <th>Ticket</th>\n",
       "      <th>Fare</th>\n",
       "      <th>Cabin</th>\n",
       "      <th>Embarked</th>\n",
       "      <th>trainable</th>\n",
       "    </tr>\n",
       "  </thead>\n",
       "  <tbody>\n",
       "    <tr>\n",
       "      <th>0</th>\n",
       "      <td>1</td>\n",
       "      <td>0.0</td>\n",
       "      <td>3</td>\n",
       "      <td>Braund, Mr. Owen Harris</td>\n",
       "      <td>male</td>\n",
       "      <td>22.0</td>\n",
       "      <td>1</td>\n",
       "      <td>0</td>\n",
       "      <td>A/5 21171</td>\n",
       "      <td>7.2500</td>\n",
       "      <td>NaN</td>\n",
       "      <td>S</td>\n",
       "      <td>1</td>\n",
       "    </tr>\n",
       "    <tr>\n",
       "      <th>1</th>\n",
       "      <td>2</td>\n",
       "      <td>1.0</td>\n",
       "      <td>1</td>\n",
       "      <td>Cumings, Mrs. John Bradley (Florence Briggs Th...</td>\n",
       "      <td>female</td>\n",
       "      <td>38.0</td>\n",
       "      <td>1</td>\n",
       "      <td>0</td>\n",
       "      <td>PC 17599</td>\n",
       "      <td>71.2833</td>\n",
       "      <td>C85</td>\n",
       "      <td>C</td>\n",
       "      <td>1</td>\n",
       "    </tr>\n",
       "    <tr>\n",
       "      <th>2</th>\n",
       "      <td>3</td>\n",
       "      <td>1.0</td>\n",
       "      <td>3</td>\n",
       "      <td>Heikkinen, Miss. Laina</td>\n",
       "      <td>female</td>\n",
       "      <td>26.0</td>\n",
       "      <td>0</td>\n",
       "      <td>0</td>\n",
       "      <td>STON/O2. 3101282</td>\n",
       "      <td>7.9250</td>\n",
       "      <td>NaN</td>\n",
       "      <td>S</td>\n",
       "      <td>1</td>\n",
       "    </tr>\n",
       "    <tr>\n",
       "      <th>3</th>\n",
       "      <td>4</td>\n",
       "      <td>1.0</td>\n",
       "      <td>1</td>\n",
       "      <td>Futrelle, Mrs. Jacques Heath (Lily May Peel)</td>\n",
       "      <td>female</td>\n",
       "      <td>35.0</td>\n",
       "      <td>1</td>\n",
       "      <td>0</td>\n",
       "      <td>113803</td>\n",
       "      <td>53.1000</td>\n",
       "      <td>C123</td>\n",
       "      <td>S</td>\n",
       "      <td>1</td>\n",
       "    </tr>\n",
       "    <tr>\n",
       "      <th>4</th>\n",
       "      <td>5</td>\n",
       "      <td>0.0</td>\n",
       "      <td>3</td>\n",
       "      <td>Allen, Mr. William Henry</td>\n",
       "      <td>male</td>\n",
       "      <td>35.0</td>\n",
       "      <td>0</td>\n",
       "      <td>0</td>\n",
       "      <td>373450</td>\n",
       "      <td>8.0500</td>\n",
       "      <td>NaN</td>\n",
       "      <td>S</td>\n",
       "      <td>1</td>\n",
       "    </tr>\n",
       "    <tr>\n",
       "      <th>...</th>\n",
       "      <td>...</td>\n",
       "      <td>...</td>\n",
       "      <td>...</td>\n",
       "      <td>...</td>\n",
       "      <td>...</td>\n",
       "      <td>...</td>\n",
       "      <td>...</td>\n",
       "      <td>...</td>\n",
       "      <td>...</td>\n",
       "      <td>...</td>\n",
       "      <td>...</td>\n",
       "      <td>...</td>\n",
       "      <td>...</td>\n",
       "    </tr>\n",
       "    <tr>\n",
       "      <th>413</th>\n",
       "      <td>1305</td>\n",
       "      <td>NaN</td>\n",
       "      <td>3</td>\n",
       "      <td>Spector, Mr. Woolf</td>\n",
       "      <td>male</td>\n",
       "      <td>NaN</td>\n",
       "      <td>0</td>\n",
       "      <td>0</td>\n",
       "      <td>A.5. 3236</td>\n",
       "      <td>8.0500</td>\n",
       "      <td>NaN</td>\n",
       "      <td>S</td>\n",
       "      <td>0</td>\n",
       "    </tr>\n",
       "    <tr>\n",
       "      <th>414</th>\n",
       "      <td>1306</td>\n",
       "      <td>NaN</td>\n",
       "      <td>1</td>\n",
       "      <td>Oliva y Ocana, Dona. Fermina</td>\n",
       "      <td>female</td>\n",
       "      <td>39.0</td>\n",
       "      <td>0</td>\n",
       "      <td>0</td>\n",
       "      <td>PC 17758</td>\n",
       "      <td>108.9000</td>\n",
       "      <td>C105</td>\n",
       "      <td>C</td>\n",
       "      <td>0</td>\n",
       "    </tr>\n",
       "    <tr>\n",
       "      <th>415</th>\n",
       "      <td>1307</td>\n",
       "      <td>NaN</td>\n",
       "      <td>3</td>\n",
       "      <td>Saether, Mr. Simon Sivertsen</td>\n",
       "      <td>male</td>\n",
       "      <td>38.5</td>\n",
       "      <td>0</td>\n",
       "      <td>0</td>\n",
       "      <td>SOTON/O.Q. 3101262</td>\n",
       "      <td>7.2500</td>\n",
       "      <td>NaN</td>\n",
       "      <td>S</td>\n",
       "      <td>0</td>\n",
       "    </tr>\n",
       "    <tr>\n",
       "      <th>416</th>\n",
       "      <td>1308</td>\n",
       "      <td>NaN</td>\n",
       "      <td>3</td>\n",
       "      <td>Ware, Mr. Frederick</td>\n",
       "      <td>male</td>\n",
       "      <td>NaN</td>\n",
       "      <td>0</td>\n",
       "      <td>0</td>\n",
       "      <td>359309</td>\n",
       "      <td>8.0500</td>\n",
       "      <td>NaN</td>\n",
       "      <td>S</td>\n",
       "      <td>0</td>\n",
       "    </tr>\n",
       "    <tr>\n",
       "      <th>417</th>\n",
       "      <td>1309</td>\n",
       "      <td>NaN</td>\n",
       "      <td>3</td>\n",
       "      <td>Peter, Master. Michael J</td>\n",
       "      <td>male</td>\n",
       "      <td>NaN</td>\n",
       "      <td>1</td>\n",
       "      <td>1</td>\n",
       "      <td>2668</td>\n",
       "      <td>22.3583</td>\n",
       "      <td>NaN</td>\n",
       "      <td>C</td>\n",
       "      <td>0</td>\n",
       "    </tr>\n",
       "  </tbody>\n",
       "</table>\n",
       "<p>1309 rows × 13 columns</p>\n",
       "</div>"
      ],
      "text/plain": [
       "     PassengerId  Survived  Pclass  \\\n",
       "0              1       0.0       3   \n",
       "1              2       1.0       1   \n",
       "2              3       1.0       3   \n",
       "3              4       1.0       1   \n",
       "4              5       0.0       3   \n",
       "..           ...       ...     ...   \n",
       "413         1305       NaN       3   \n",
       "414         1306       NaN       1   \n",
       "415         1307       NaN       3   \n",
       "416         1308       NaN       3   \n",
       "417         1309       NaN       3   \n",
       "\n",
       "                                                  Name     Sex   Age  SibSp  \\\n",
       "0                              Braund, Mr. Owen Harris    male  22.0      1   \n",
       "1    Cumings, Mrs. John Bradley (Florence Briggs Th...  female  38.0      1   \n",
       "2                               Heikkinen, Miss. Laina  female  26.0      0   \n",
       "3         Futrelle, Mrs. Jacques Heath (Lily May Peel)  female  35.0      1   \n",
       "4                             Allen, Mr. William Henry    male  35.0      0   \n",
       "..                                                 ...     ...   ...    ...   \n",
       "413                                 Spector, Mr. Woolf    male   NaN      0   \n",
       "414                       Oliva y Ocana, Dona. Fermina  female  39.0      0   \n",
       "415                       Saether, Mr. Simon Sivertsen    male  38.5      0   \n",
       "416                                Ware, Mr. Frederick    male   NaN      0   \n",
       "417                           Peter, Master. Michael J    male   NaN      1   \n",
       "\n",
       "     Parch              Ticket      Fare Cabin Embarked  trainable  \n",
       "0        0           A/5 21171    7.2500   NaN        S          1  \n",
       "1        0            PC 17599   71.2833   C85        C          1  \n",
       "2        0    STON/O2. 3101282    7.9250   NaN        S          1  \n",
       "3        0              113803   53.1000  C123        S          1  \n",
       "4        0              373450    8.0500   NaN        S          1  \n",
       "..     ...                 ...       ...   ...      ...        ...  \n",
       "413      0           A.5. 3236    8.0500   NaN        S          0  \n",
       "414      0            PC 17758  108.9000  C105        C          0  \n",
       "415      0  SOTON/O.Q. 3101262    7.2500   NaN        S          0  \n",
       "416      0              359309    8.0500   NaN        S          0  \n",
       "417      1                2668   22.3583   NaN        C          0  \n",
       "\n",
       "[1309 rows x 13 columns]"
      ]
     },
     "execution_count": 20,
     "metadata": {},
     "output_type": "execute_result"
    }
   ],
   "source": [
    "Tdf=train_df.copy()\n",
    "Tdf['trainable']=1\n",
    "\n",
    "Tsdf=test_df.copy()\n",
    "Tsdf['trainable']=0\n",
    "\n",
    "total_df=pd.concat([Tdf,Tsdf])\n",
    "total_df"
   ]
  },
  {
   "cell_type": "markdown",
   "id": "suspected-genetics",
   "metadata": {
    "papermill": {
     "duration": 0.043156,
     "end_time": "2021-07-25T08:25:24.459443",
     "exception": false,
     "start_time": "2021-07-25T08:25:24.416287",
     "status": "completed"
    },
    "tags": []
   },
   "source": [
    "I want to point to these 2 notebooks for pointing out a great feature 'Family_Survival':\n",
    "\n",
    "[blood is thicker than water friendship forever](http://www.kaggle.com/shunjiangxu/blood-is-thicker-than-water-friendship-forever)\n",
    "\n",
    "[simple end to end ml workflow top 5 score](https://www.kaggle.com/josh24990/simple-end-to-end-ml-workflow-top-5-score)"
   ]
  },
  {
   "cell_type": "code",
   "execution_count": 21,
   "id": "visible-hierarchy",
   "metadata": {
    "execution": {
     "iopub.execute_input": "2021-07-25T08:25:24.565206Z",
     "iopub.status.busy": "2021-07-25T08:25:24.554480Z",
     "iopub.status.idle": "2021-07-25T08:25:28.869919Z",
     "shell.execute_reply": "2021-07-25T08:25:28.869353Z",
     "shell.execute_reply.started": "2021-07-25T07:49:48.182951Z"
    },
    "papermill": {
     "duration": 4.367501,
     "end_time": "2021-07-25T08:25:28.870111",
     "exception": false,
     "start_time": "2021-07-25T08:25:24.502610",
     "status": "completed"
    },
    "tags": []
   },
   "outputs": [
    {
     "name": "stdout",
     "output_type": "stream",
     "text": [
      "Age culsters are: \n",
      " [[53.        ]\n",
      " [21.31578947]\n",
      " [ 5.00239437]\n",
      " [34.02371542]] \n",
      "\n",
      "0      1.0\n",
      "1      3.0\n",
      "2      1.0\n",
      "3      3.0\n",
      "4      3.0\n",
      "      ... \n",
      "413    3.0\n",
      "414    3.0\n",
      "415    3.0\n",
      "416    3.0\n",
      "417    2.0\n",
      "Name: Age, Length: 1309, dtype: float64\n",
      "prob_survival culsters are: \n",
      " [[0.59868766]\n",
      " [0.73105858]\n",
      " [0.5       ]\n",
      " [0.62245933]\n",
      " [0.66075637]\n",
      " [0.58257021]\n",
      " [0.69705928]] \n",
      "\n",
      "fare_per_fsize culsters are: \n",
      " [[0.95593577]\n",
      " [2.23469952]\n",
      " [3.84632805]] \n",
      "\n",
      "Null values:  PassengerId        0.000000\n",
      "Survived           0.319328\n",
      "Pclass             0.000000\n",
      "Name               0.000000\n",
      "Sex                0.000000\n",
      "Age                0.000000\n",
      "SibSp              0.000000\n",
      "Parch              0.000000\n",
      "Ticket             0.000000\n",
      "Fare               0.000000\n",
      "Cabin              0.774637\n",
      "Embarked           0.000000\n",
      "trainable          0.000000\n",
      "family_size        0.000000\n",
      "last_name          0.000000\n",
      "Title              0.000000\n",
      "Family_Survival    0.000000\n",
      "prob_survival      0.000000\n",
      "fare_per_fsize     0.000000\n",
      "dtype: float64\n",
      "train_df:  891\n",
      "test_df:  418\n",
      "total_df:  1309\n",
      "columns:  Index(['PassengerId', 'Survived', 'Pclass', 'Name', 'Sex', 'Age', 'SibSp',\n",
      "       'Parch', 'Ticket', 'Fare', 'Cabin', 'Embarked', 'trainable',\n",
      "       'family_size', 'last_name', 'Title', 'Family_Survival', 'prob_survival',\n",
      "       'fare_per_fsize'],\n",
      "      dtype='object')\n"
     ]
    },
    {
     "data": {
      "text/html": [
       "<div>\n",
       "<style scoped>\n",
       "    .dataframe tbody tr th:only-of-type {\n",
       "        vertical-align: middle;\n",
       "    }\n",
       "\n",
       "    .dataframe tbody tr th {\n",
       "        vertical-align: top;\n",
       "    }\n",
       "\n",
       "    .dataframe thead th {\n",
       "        text-align: right;\n",
       "    }\n",
       "</style>\n",
       "<table border=\"1\" class=\"dataframe\">\n",
       "  <thead>\n",
       "    <tr style=\"text-align: right;\">\n",
       "      <th></th>\n",
       "      <th>PassengerId</th>\n",
       "      <th>Survived</th>\n",
       "      <th>Pclass</th>\n",
       "      <th>Name</th>\n",
       "      <th>Sex</th>\n",
       "      <th>Age</th>\n",
       "      <th>SibSp</th>\n",
       "      <th>Parch</th>\n",
       "      <th>Ticket</th>\n",
       "      <th>Fare</th>\n",
       "      <th>Cabin</th>\n",
       "      <th>Embarked</th>\n",
       "      <th>trainable</th>\n",
       "      <th>family_size</th>\n",
       "      <th>last_name</th>\n",
       "      <th>Title</th>\n",
       "      <th>Family_Survival</th>\n",
       "      <th>prob_survival</th>\n",
       "      <th>fare_per_fsize</th>\n",
       "    </tr>\n",
       "  </thead>\n",
       "  <tbody>\n",
       "    <tr>\n",
       "      <th>0</th>\n",
       "      <td>1</td>\n",
       "      <td>0.0</td>\n",
       "      <td>3</td>\n",
       "      <td>Braund, Mr. Owen Harris</td>\n",
       "      <td>1</td>\n",
       "      <td>1.0</td>\n",
       "      <td>1</td>\n",
       "      <td>0</td>\n",
       "      <td>A/5 21171</td>\n",
       "      <td>2.110213</td>\n",
       "      <td>NaN</td>\n",
       "      <td>0</td>\n",
       "      <td>1</td>\n",
       "      <td>2</td>\n",
       "      <td>Braund</td>\n",
       "      <td>Mr</td>\n",
       "      <td>0.5</td>\n",
       "      <td>3</td>\n",
       "      <td>0</td>\n",
       "    </tr>\n",
       "    <tr>\n",
       "      <th>1</th>\n",
       "      <td>2</td>\n",
       "      <td>1.0</td>\n",
       "      <td>1</td>\n",
       "      <td>Cumings, Mrs. John Bradley (Florence Briggs Th...</td>\n",
       "      <td>0</td>\n",
       "      <td>3.0</td>\n",
       "      <td>1</td>\n",
       "      <td>0</td>\n",
       "      <td>PC 17599</td>\n",
       "      <td>4.280593</td>\n",
       "      <td>C85</td>\n",
       "      <td>1</td>\n",
       "      <td>1</td>\n",
       "      <td>2</td>\n",
       "      <td>Cumings</td>\n",
       "      <td>Mrs</td>\n",
       "      <td>0.5</td>\n",
       "      <td>0</td>\n",
       "      <td>1</td>\n",
       "    </tr>\n",
       "    <tr>\n",
       "      <th>2</th>\n",
       "      <td>3</td>\n",
       "      <td>1.0</td>\n",
       "      <td>3</td>\n",
       "      <td>Heikkinen, Miss. Laina</td>\n",
       "      <td>0</td>\n",
       "      <td>1.0</td>\n",
       "      <td>0</td>\n",
       "      <td>0</td>\n",
       "      <td>STON/O2. 3101282</td>\n",
       "      <td>2.188856</td>\n",
       "      <td>NaN</td>\n",
       "      <td>0</td>\n",
       "      <td>1</td>\n",
       "      <td>1</td>\n",
       "      <td>Heikkinen</td>\n",
       "      <td>Miss</td>\n",
       "      <td>0.5</td>\n",
       "      <td>3</td>\n",
       "      <td>1</td>\n",
       "    </tr>\n",
       "    <tr>\n",
       "      <th>3</th>\n",
       "      <td>4</td>\n",
       "      <td>1.0</td>\n",
       "      <td>1</td>\n",
       "      <td>Futrelle, Mrs. Jacques Heath (Lily May Peel)</td>\n",
       "      <td>0</td>\n",
       "      <td>3.0</td>\n",
       "      <td>1</td>\n",
       "      <td>0</td>\n",
       "      <td>113803</td>\n",
       "      <td>3.990834</td>\n",
       "      <td>C123</td>\n",
       "      <td>0</td>\n",
       "      <td>1</td>\n",
       "      <td>2</td>\n",
       "      <td>Futrelle</td>\n",
       "      <td>Mrs</td>\n",
       "      <td>0.0</td>\n",
       "      <td>2</td>\n",
       "      <td>1</td>\n",
       "    </tr>\n",
       "    <tr>\n",
       "      <th>4</th>\n",
       "      <td>5</td>\n",
       "      <td>0.0</td>\n",
       "      <td>3</td>\n",
       "      <td>Allen, Mr. William Henry</td>\n",
       "      <td>1</td>\n",
       "      <td>3.0</td>\n",
       "      <td>0</td>\n",
       "      <td>0</td>\n",
       "      <td>373450</td>\n",
       "      <td>2.202765</td>\n",
       "      <td>NaN</td>\n",
       "      <td>0</td>\n",
       "      <td>1</td>\n",
       "      <td>1</td>\n",
       "      <td>Allen</td>\n",
       "      <td>Mr</td>\n",
       "      <td>0.5</td>\n",
       "      <td>3</td>\n",
       "      <td>1</td>\n",
       "    </tr>\n",
       "    <tr>\n",
       "      <th>...</th>\n",
       "      <td>...</td>\n",
       "      <td>...</td>\n",
       "      <td>...</td>\n",
       "      <td>...</td>\n",
       "      <td>...</td>\n",
       "      <td>...</td>\n",
       "      <td>...</td>\n",
       "      <td>...</td>\n",
       "      <td>...</td>\n",
       "      <td>...</td>\n",
       "      <td>...</td>\n",
       "      <td>...</td>\n",
       "      <td>...</td>\n",
       "      <td>...</td>\n",
       "      <td>...</td>\n",
       "      <td>...</td>\n",
       "      <td>...</td>\n",
       "      <td>...</td>\n",
       "      <td>...</td>\n",
       "    </tr>\n",
       "    <tr>\n",
       "      <th>413</th>\n",
       "      <td>1305</td>\n",
       "      <td>NaN</td>\n",
       "      <td>3</td>\n",
       "      <td>Spector, Mr. Woolf</td>\n",
       "      <td>1</td>\n",
       "      <td>3.0</td>\n",
       "      <td>0</td>\n",
       "      <td>0</td>\n",
       "      <td>A.5. 3236</td>\n",
       "      <td>2.202765</td>\n",
       "      <td>NaN</td>\n",
       "      <td>0</td>\n",
       "      <td>0</td>\n",
       "      <td>1</td>\n",
       "      <td>Spector</td>\n",
       "      <td>Mr</td>\n",
       "      <td>0.5</td>\n",
       "      <td>3</td>\n",
       "      <td>1</td>\n",
       "    </tr>\n",
       "    <tr>\n",
       "      <th>414</th>\n",
       "      <td>1306</td>\n",
       "      <td>NaN</td>\n",
       "      <td>1</td>\n",
       "      <td>Oliva y Ocana, Dona. Fermina</td>\n",
       "      <td>0</td>\n",
       "      <td>3.0</td>\n",
       "      <td>0</td>\n",
       "      <td>0</td>\n",
       "      <td>PC 17758</td>\n",
       "      <td>4.699571</td>\n",
       "      <td>C105</td>\n",
       "      <td>1</td>\n",
       "      <td>0</td>\n",
       "      <td>1</td>\n",
       "      <td>Oliva y Ocana</td>\n",
       "      <td>Rare</td>\n",
       "      <td>1.0</td>\n",
       "      <td>3</td>\n",
       "      <td>2</td>\n",
       "    </tr>\n",
       "    <tr>\n",
       "      <th>415</th>\n",
       "      <td>1307</td>\n",
       "      <td>NaN</td>\n",
       "      <td>3</td>\n",
       "      <td>Saether, Mr. Simon Sivertsen</td>\n",
       "      <td>1</td>\n",
       "      <td>3.0</td>\n",
       "      <td>0</td>\n",
       "      <td>0</td>\n",
       "      <td>SOTON/O.Q. 3101262</td>\n",
       "      <td>2.110213</td>\n",
       "      <td>NaN</td>\n",
       "      <td>0</td>\n",
       "      <td>0</td>\n",
       "      <td>1</td>\n",
       "      <td>Saether</td>\n",
       "      <td>Mr</td>\n",
       "      <td>0.5</td>\n",
       "      <td>3</td>\n",
       "      <td>1</td>\n",
       "    </tr>\n",
       "    <tr>\n",
       "      <th>416</th>\n",
       "      <td>1308</td>\n",
       "      <td>NaN</td>\n",
       "      <td>3</td>\n",
       "      <td>Ware, Mr. Frederick</td>\n",
       "      <td>1</td>\n",
       "      <td>3.0</td>\n",
       "      <td>0</td>\n",
       "      <td>0</td>\n",
       "      <td>359309</td>\n",
       "      <td>2.202765</td>\n",
       "      <td>NaN</td>\n",
       "      <td>0</td>\n",
       "      <td>0</td>\n",
       "      <td>1</td>\n",
       "      <td>Ware</td>\n",
       "      <td>Mr</td>\n",
       "      <td>0.5</td>\n",
       "      <td>3</td>\n",
       "      <td>1</td>\n",
       "    </tr>\n",
       "    <tr>\n",
       "      <th>417</th>\n",
       "      <td>1309</td>\n",
       "      <td>NaN</td>\n",
       "      <td>3</td>\n",
       "      <td>Peter, Master. Michael J</td>\n",
       "      <td>1</td>\n",
       "      <td>2.0</td>\n",
       "      <td>1</td>\n",
       "      <td>1</td>\n",
       "      <td>2668</td>\n",
       "      <td>3.150952</td>\n",
       "      <td>NaN</td>\n",
       "      <td>1</td>\n",
       "      <td>0</td>\n",
       "      <td>3</td>\n",
       "      <td>Peter</td>\n",
       "      <td>Master</td>\n",
       "      <td>1.0</td>\n",
       "      <td>1</td>\n",
       "      <td>0</td>\n",
       "    </tr>\n",
       "  </tbody>\n",
       "</table>\n",
       "<p>1309 rows × 19 columns</p>\n",
       "</div>"
      ],
      "text/plain": [
       "     PassengerId  Survived  Pclass  \\\n",
       "0              1       0.0       3   \n",
       "1              2       1.0       1   \n",
       "2              3       1.0       3   \n",
       "3              4       1.0       1   \n",
       "4              5       0.0       3   \n",
       "..           ...       ...     ...   \n",
       "413         1305       NaN       3   \n",
       "414         1306       NaN       1   \n",
       "415         1307       NaN       3   \n",
       "416         1308       NaN       3   \n",
       "417         1309       NaN       3   \n",
       "\n",
       "                                                  Name  Sex  Age  SibSp  \\\n",
       "0                              Braund, Mr. Owen Harris    1  1.0      1   \n",
       "1    Cumings, Mrs. John Bradley (Florence Briggs Th...    0  3.0      1   \n",
       "2                               Heikkinen, Miss. Laina    0  1.0      0   \n",
       "3         Futrelle, Mrs. Jacques Heath (Lily May Peel)    0  3.0      1   \n",
       "4                             Allen, Mr. William Henry    1  3.0      0   \n",
       "..                                                 ...  ...  ...    ...   \n",
       "413                                 Spector, Mr. Woolf    1  3.0      0   \n",
       "414                       Oliva y Ocana, Dona. Fermina    0  3.0      0   \n",
       "415                       Saether, Mr. Simon Sivertsen    1  3.0      0   \n",
       "416                                Ware, Mr. Frederick    1  3.0      0   \n",
       "417                           Peter, Master. Michael J    1  2.0      1   \n",
       "\n",
       "     Parch              Ticket      Fare Cabin  Embarked  trainable  \\\n",
       "0        0           A/5 21171  2.110213   NaN         0          1   \n",
       "1        0            PC 17599  4.280593   C85         1          1   \n",
       "2        0    STON/O2. 3101282  2.188856   NaN         0          1   \n",
       "3        0              113803  3.990834  C123         0          1   \n",
       "4        0              373450  2.202765   NaN         0          1   \n",
       "..     ...                 ...       ...   ...       ...        ...   \n",
       "413      0           A.5. 3236  2.202765   NaN         0          0   \n",
       "414      0            PC 17758  4.699571  C105         1          0   \n",
       "415      0  SOTON/O.Q. 3101262  2.110213   NaN         0          0   \n",
       "416      0              359309  2.202765   NaN         0          0   \n",
       "417      1                2668  3.150952   NaN         1          0   \n",
       "\n",
       "     family_size      last_name   Title  Family_Survival  prob_survival  \\\n",
       "0              2         Braund      Mr              0.5              3   \n",
       "1              2        Cumings     Mrs              0.5              0   \n",
       "2              1      Heikkinen    Miss              0.5              3   \n",
       "3              2       Futrelle     Mrs              0.0              2   \n",
       "4              1          Allen      Mr              0.5              3   \n",
       "..           ...            ...     ...              ...            ...   \n",
       "413            1        Spector      Mr              0.5              3   \n",
       "414            1  Oliva y Ocana    Rare              1.0              3   \n",
       "415            1        Saether      Mr              0.5              3   \n",
       "416            1           Ware      Mr              0.5              3   \n",
       "417            3          Peter  Master              1.0              1   \n",
       "\n",
       "     fare_per_fsize  \n",
       "0                 0  \n",
       "1                 1  \n",
       "2                 1  \n",
       "3                 1  \n",
       "4                 1  \n",
       "..              ...  \n",
       "413               1  \n",
       "414               2  \n",
       "415               1  \n",
       "416               1  \n",
       "417               0  \n",
       "\n",
       "[1309 rows x 19 columns]"
      ]
     },
     "execution_count": 21,
     "metadata": {},
     "output_type": "execute_result"
    }
   ],
   "source": [
    "random_state=29\n",
    "\n",
    "total_df['family_size']=total_df['Parch']+total_df['SibSp']+1\n",
    "total_df['last_name']=total_df['Name'].apply(lambda x: str.split(x, \",\")[0])\n",
    "total_df['Title']=total_df['Name'].str.extract(r'(,\\s(\\w+|\\w+\\s\\w+)\\.)')[1]\n",
    "\n",
    "df=total_df[total_df['trainable']==1]\n",
    "\n",
    "allowed_vals=['Mr','Mrs','Miss','Master','Dr','Major']\n",
    "\n",
    "total_df.loc[~total_df['Title'].isin(allowed_vals), 'Title'] = 'Rare'\n",
    "\n",
    "#do KMeans on Age\n",
    "age_classify,total_df=cluster_feature(total_df,n_clusters=4,column='Age',random_state=random_state)\n",
    "\n",
    "#Fill the missing Age values using Title column\n",
    "gr_age=total_df.groupby(['Title','Age'])['PassengerId'].count()\n",
    "total_df=fill_missing_age_wtitle(total_df,func=np.max)\n",
    "\n",
    "#fill the missing Fare values according to the Pclass values.\n",
    "#The higher the class the more likely the fare will increase.\n",
    "df=total_df[total_df['trainable']==1]\n",
    "class_mean=df[['Pclass','Fare']].groupby('Pclass').mean()\n",
    "total_df['Fare']=total_df.apply(lambda row: class_mean.loc[row['Pclass']].values[0] if np.isnan(row['Fare']) else row['Fare'],axis=1)\n",
    "\n",
    "#next i will add 2 a great feature i found in 2 other notebooks. This feature greatly increased my\n",
    "#score.\n",
    "#generate a family information group\n",
    "default_survival_chance = 0.5\n",
    "total_df['Family_Survival'] = default_survival_chance\n",
    "\n",
    "# Grouping by last name and fare gives you groups of families\n",
    "for grp, grp_df in total_df[['Survived','Name', 'last_name', 'Fare', 'Ticket', 'PassengerId','Sex',\n",
    "                           'SibSp', 'Parch', 'Age', 'Cabin']].groupby(['last_name', 'Fare']):\n",
    "    \n",
    "    #if the family group has more than one member, then it is a family\n",
    "    if (len(grp_df) != 1):\n",
    "        for ind, row in grp_df.iterrows():\n",
    "            smax = grp_df.drop(ind)['Survived'].max()\n",
    "            smin = grp_df.drop(ind)['Survived'].min()\n",
    "            smean=grp_df.drop(ind)['Survived'].mean()\n",
    "            smean= 0.4 if np.isnan(smean) else smean\n",
    "            passID = row['PassengerId']\n",
    "            total_df.loc[total_df['PassengerId'] == passID, 'prob_survival']=smean#np.log10(smean+0.0001)\n",
    "            if (smax == 1.0):\n",
    "                total_df.loc[total_df['PassengerId'] == passID, 'Family_Survival'] = 1\n",
    "            elif (smin == 0.0):\n",
    "                total_df.loc[total_df['PassengerId'] == passID, 'Family_Survival'] = 0\n",
    "\n",
    "#grouping by ticket gives you groups that are expected to have gone together to the trip\n",
    "for _, grp_df in total_df.groupby('Ticket'):\n",
    "    if (len(grp_df) != 1):\n",
    "        for ind, row in grp_df.iterrows():\n",
    "            if (row['Family_Survival'] == 0) | (row['Family_Survival']== 0.5):\n",
    "                smax = grp_df.drop(ind)['Survived'].max()\n",
    "                smin = grp_df.drop(ind)['Survived'].min()\n",
    "                smean=grp_df.drop(ind)['Survived'].mean()\n",
    "                smean=0.4 if np.isnan(smean) else smean\n",
    "                passID = row['PassengerId']\n",
    "                total_df.loc[total_df['PassengerId'] == passID, 'prob_survival']=smean#np.log10(smean+0.0001)\n",
    "                if (smax == 1.0):\n",
    "                    total_df.loc[total_df['PassengerId'] == passID, 'Family_Survival'] = 1\n",
    "                elif (smin==0.0):\n",
    "                    total_df.loc[total_df['PassengerId'] == passID, 'Family_Survival'] = 0\n",
    "\n",
    "total_df['prob_survival']=total_df['prob_survival'].fillna(total_df['Family_Survival'])\n",
    "total_df['prob_survival']=total_df['prob_survival'].apply(lambda x: 1/(1+np.exp(-x)))\n",
    "# total_df['prob_survival']=total_df['prob_survival'].replace(0,0.000001)\n",
    "# total_df['prob_survival']=power_transform((total_df['prob_survival']).values.reshape(-1, 1), method='box-cox')\n",
    "Sprob_classify,total_df=cluster_feature(total_df,n_clusters=7,column='prob_survival',random_state=random_state)\n",
    "#4\n",
    "#replace the 0 Fare values with a small number (wrt fare) and apply a log10 on the values.\n",
    "total_df['Fare']=total_df['Fare'].replace(0,0.00001)\n",
    "total_df['Fare']=total_df['Fare'].apply(lambda x: np.log(x+1))\n",
    "#one of the cited notebooks suggests that the fare is for the family. Supposing this theory stands,\n",
    "#then divide the fare(log fare to be more accurate) by the family size to have something like \n",
    "#fare/family member\n",
    "total_df['fare_per_fsize']=total_df['Fare'].values/total_df['family_size'].values\n",
    "fare_classify,total_df=cluster_feature(total_df,n_clusters=3,column='fare_per_fsize',random_state=random_state)\n",
    "\n",
    "#I tried some method to fill the missing embarked and all gave 'S' on train set \\\n",
    "#while test set does not have missing values. Thus, i just did fill missing embarked values with 'S'\n",
    "total_df['Embarked']=total_df['Embarked'].fillna('S')\n",
    "#This next 2 columns were taken from another notebooks\n",
    "#these new features seems to be useful\n",
    "\n",
    "total_df['Sex']=total_df['Sex'].apply(lambda x: 1 if x=='male' else 0)\n",
    "\n",
    "total_df['Embarked']=total_df['Embarked'].apply(lambda x: 0 if x=='S' else (1 if x == 'C' else 2))\n",
    "\n",
    "print('Null values: ',pd.isna(total_df).sum()/len(total_df))\n",
    "print('train_df: ',len(train_df))\n",
    "print('test_df: ',len(test_df))\n",
    "print('total_df: ',len(total_df))\n",
    "print('columns: ',total_df.columns)\n",
    "\n",
    "total_df"
   ]
  },
  {
   "cell_type": "code",
   "execution_count": 22,
   "id": "grand-commercial",
   "metadata": {
    "execution": {
     "iopub.execute_input": "2021-07-25T08:25:28.976611Z",
     "iopub.status.busy": "2021-07-25T08:25:28.975907Z",
     "iopub.status.idle": "2021-07-25T08:25:28.979580Z",
     "shell.execute_reply": "2021-07-25T08:25:28.980110Z",
     "shell.execute_reply.started": "2021-07-25T07:49:52.539971Z"
    },
    "papermill": {
     "duration": 0.063654,
     "end_time": "2021-07-25T08:25:28.980290",
     "exception": false,
     "start_time": "2021-07-25T08:25:28.916636",
     "status": "completed"
    },
    "tags": []
   },
   "outputs": [
    {
     "name": "stdout",
     "output_type": "stream",
     "text": [
      "[53.         21.31578947  5.00239437 34.02371542]\n",
      "{0: 3, 1: 1, 2: 0, 3: 2}\n",
      "[0.59868766 0.73105858 0.5        0.62245933 0.66075637 0.58257021\n",
      " 0.69705928]\n",
      "{0: 2, 1: 6, 2: 0, 3: 3, 4: 4, 5: 1, 6: 5}\n",
      "[0.95593577 2.23469952 3.84632805]\n",
      "{0: 0, 1: 1, 2: 2}\n"
     ]
    }
   ],
   "source": [
    "age_clusters,total_df=reorder_clusters(age_classify.cluster_centers_,total_df,'Age')\n",
    "prob_survival_clusters,total_df=reorder_clusters(Sprob_classify.cluster_centers_,total_df,'prob_survival')\n",
    "fare_clusters,total_df=reorder_clusters(fare_classify.cluster_centers_,total_df,'fare_per_fsize')"
   ]
  },
  {
   "cell_type": "code",
   "execution_count": 23,
   "id": "executive-inquiry",
   "metadata": {
    "execution": {
     "iopub.execute_input": "2021-07-25T08:25:29.076376Z",
     "iopub.status.busy": "2021-07-25T08:25:29.075692Z",
     "iopub.status.idle": "2021-07-25T08:25:29.503612Z",
     "shell.execute_reply": "2021-07-25T08:25:29.503055Z",
     "shell.execute_reply.started": "2021-07-25T07:49:52.557155Z"
    },
    "papermill": {
     "duration": 0.476743,
     "end_time": "2021-07-25T08:25:29.503770",
     "exception": false,
     "start_time": "2021-07-25T08:25:29.027027",
     "status": "completed"
    },
    "tags": []
   },
   "outputs": [
    {
     "data": {
      "text/plain": [
       "<AxesSubplot:>"
      ]
     },
     "execution_count": 23,
     "metadata": {},
     "output_type": "execute_result"
    },
    {
     "data": {
      "image/png": "[encoded data removed]",
      "text/plain": [
       "<Figure size 432x288 with 2 Axes>"
      ]
     },
     "metadata": {
      "needs_background": "light"
     },
     "output_type": "display_data"
    }
   ],
   "source": [
    "sns.heatmap(total_df.corr())"
   ]
  },
  {
   "cell_type": "markdown",
   "id": "august-firewall",
   "metadata": {
    "papermill": {
     "duration": 0.046365,
     "end_time": "2021-07-25T08:25:29.596803",
     "exception": false,
     "start_time": "2021-07-25T08:25:29.550438",
     "status": "completed"
    },
    "tags": []
   },
   "source": [
    "<h1 style=\"color: #00FF00\"> Generate the results </h1>"
   ]
  },
  {
   "cell_type": "code",
   "execution_count": 24,
   "id": "parental-large",
   "metadata": {
    "execution": {
     "iopub.execute_input": "2021-07-25T08:25:29.701159Z",
     "iopub.status.busy": "2021-07-25T08:25:29.700006Z",
     "iopub.status.idle": "2021-07-25T08:25:29.709930Z",
     "shell.execute_reply": "2021-07-25T08:25:29.710454Z",
     "shell.execute_reply.started": "2021-07-25T07:50:00.957562Z"
    },
    "papermill": {
     "duration": 0.065309,
     "end_time": "2021-07-25T08:25:29.710644",
     "exception": false,
     "start_time": "2021-07-25T08:25:29.645335",
     "status": "completed"
    },
    "tags": []
   },
   "outputs": [],
   "source": [
    "drop_features=['Survived','PassengerId','SibSp','Parch','Ticket','trainable','last_name','Name',\n",
    "               'Title','Cabin','Embarked','Family_Survival','family_size','Fare']\n",
    "\n",
    "X_train=total_df[total_df['trainable']==1]\n",
    "X_test=total_df[total_df['trainable']==0]\n",
    "\n",
    "X_train=X_train.drop(columns=drop_features).values\n",
    "y_train=total_df[total_df['trainable']==1]['Survived'].values.ravel()#.reshape((-1,1))\n",
    "\n",
    "X_test=X_test.drop(columns=drop_features).values\n",
    "y_test=total_df[total_df['trainable']==0][['PassengerId','Survived']]#.reshape((-1,1))"
   ]
  },
  {
   "cell_type": "code",
   "execution_count": 25,
   "id": "israeli-cigarette",
   "metadata": {
    "execution": {
     "iopub.execute_input": "2021-07-25T08:25:29.807903Z",
     "iopub.status.busy": "2021-07-25T08:25:29.807153Z",
     "iopub.status.idle": "2021-07-25T08:25:30.270276Z",
     "shell.execute_reply": "2021-07-25T08:25:30.269598Z",
     "shell.execute_reply.started": "2021-07-25T07:50:05.926721Z"
    },
    "papermill": {
     "duration": 0.512809,
     "end_time": "2021-07-25T08:25:30.270424",
     "exception": false,
     "start_time": "2021-07-25T08:25:29.757615",
     "status": "completed"
    },
    "tags": []
   },
   "outputs": [],
   "source": [
    "cv=5\n",
    "verbose=1\n",
    "# parameters={\n",
    "# #     'max_depth':np.arange(5,16,5),\n",
    "# #     'min_samples_split':np.arange(10,30,5),\n",
    "#     'max_leaf_nodes':[5,8,10,12,15],\n",
    "#     'min_samples_leaf':[3,5,8,10],\n",
    "# #     'n_estimators':[100,150,200,250],\n",
    "#     'min_samples_split':[5,10,15,20]\n",
    "# }\n",
    "\n",
    "forest_classifier=RandomForestClassifier(n_estimators=100,max_depth=10,max_leaf_nodes=12,\n",
    "                            min_samples_leaf=10,min_samples_split=5,n_jobs=-1,random_state=27)\n",
    "\n",
    "# clf=GridSearchCV(forest_classifier,parameters,verbose=verbose,cv=cv)\n",
    "# clf.fit(X_train,y_train)\n",
    "\n",
    "\n",
    "# best_estimator=clf.best_estimator_\n",
    "# print(X_train)\n",
    "forest_classifier.fit(X_train,y_train)\n",
    "\n",
    "# y_test['Survived']=best_estimator.predict(X_test).astype(np.int32)\n",
    "y_test['Survived']=forest_classifier.predict(X_test).astype(np.int32)\n",
    "y_test=y_test.set_index('PassengerId')"
   ]
  },
  {
   "cell_type": "code",
   "execution_count": 26,
   "id": "derived-headquarters",
   "metadata": {
    "execution": {
     "iopub.execute_input": "2021-07-25T08:25:30.369404Z",
     "iopub.status.busy": "2021-07-25T08:25:30.368398Z",
     "iopub.status.idle": "2021-07-25T08:25:30.375713Z",
     "shell.execute_reply": "2021-07-25T08:25:30.375193Z",
     "shell.execute_reply.started": "2021-07-25T07:50:06.394413Z"
    },
    "papermill": {
     "duration": 0.058079,
     "end_time": "2021-07-25T08:25:30.375890",
     "exception": false,
     "start_time": "2021-07-25T08:25:30.317811",
     "status": "completed"
    },
    "tags": []
   },
   "outputs": [],
   "source": [
    "y_test.to_csv('result.csv')"
   ]
  },
  {
   "cell_type": "markdown",
   "id": "floppy-silicon",
   "metadata": {
    "papermill": {
     "duration": 0.046277,
     "end_time": "2021-07-25T08:25:30.468904",
     "exception": false,
     "start_time": "2021-07-25T08:25:30.422627",
     "status": "completed"
    },
    "tags": []
   },
   "source": [
    "<h1 style=\"color: #00FF00\"> Model Explainability </h1>\n",
    "In this part I did some model explainability to check that the model somehow represents the visualizations above. Furthermore, it is giving prediction that actually makes sense. <br/>\n",
    "These ideas were taken from kaggles courses."
   ]
  },
  {
   "cell_type": "code",
   "execution_count": 27,
   "id": "statistical-hunger",
   "metadata": {
    "execution": {
     "iopub.execute_input": "2021-07-25T08:25:30.573589Z",
     "iopub.status.busy": "2021-07-25T08:25:30.572536Z",
     "iopub.status.idle": "2021-07-25T08:25:31.040159Z",
     "shell.execute_reply": "2021-07-25T08:25:31.039527Z",
     "shell.execute_reply.started": "2021-07-25T07:50:07.645465Z"
    },
    "papermill": {
     "duration": 0.524942,
     "end_time": "2021-07-25T08:25:31.040323",
     "exception": false,
     "start_time": "2021-07-25T08:25:30.515381",
     "status": "completed"
    },
    "tags": []
   },
   "outputs": [
    {
     "name": "stdout",
     "output_type": "stream",
     "text": [
      "0.8340807174887892\n"
     ]
    }
   ],
   "source": [
    "X_train=total_df[total_df['trainable']==1].drop(columns=drop_features)\n",
    "y_train=total_df[total_df['trainable']==1]['Survived']\n",
    "\n",
    "train_X, val_X, train_y, val_y = train_test_split(X_train, y_train, random_state=27)\n",
    "\n",
    "rf_model=RandomForestClassifier(n_estimators=100,max_depth=10,max_leaf_nodes=12,\n",
    "                           min_samples_leaf=10,min_samples_split=5,n_jobs=-1,random_state=27)\n",
    "rf_model.fit(train_X,train_y)\n",
    "print(np.sum(rf_model.predict(val_X)==val_y)/len(val_X))"
   ]
  },
  {
   "cell_type": "code",
   "execution_count": 28,
   "id": "identical-crime",
   "metadata": {
    "execution": {
     "iopub.execute_input": "2021-07-25T08:25:31.146141Z",
     "iopub.status.busy": "2021-07-25T08:25:31.145369Z",
     "iopub.status.idle": "2021-07-25T08:25:31.564966Z",
     "shell.execute_reply": "2021-07-25T08:25:31.564427Z",
     "shell.execute_reply.started": "2021-07-25T08:24:37.155786Z"
    },
    "papermill": {
     "duration": 0.477819,
     "end_time": "2021-07-25T08:25:31.565116",
     "exception": false,
     "start_time": "2021-07-25T08:25:31.087297",
     "status": "completed"
    },
    "tags": []
   },
   "outputs": [
    {
     "data": {
      "text/html": [
       "<div>\n",
       "<style scoped>\n",
       "    .dataframe tbody tr th:only-of-type {\n",
       "        vertical-align: middle;\n",
       "    }\n",
       "\n",
       "    .dataframe tbody tr th {\n",
       "        vertical-align: top;\n",
       "    }\n",
       "\n",
       "    .dataframe thead th {\n",
       "        text-align: right;\n",
       "    }\n",
       "</style>\n",
       "<table border=\"1\" class=\"dataframe\">\n",
       "  <thead>\n",
       "    <tr style=\"text-align: right;\">\n",
       "      <th></th>\n",
       "      <th>predictive negative</th>\n",
       "      <th>predictive positive</th>\n",
       "      <th>total</th>\n",
       "    </tr>\n",
       "  </thead>\n",
       "  <tbody>\n",
       "    <tr>\n",
       "      <th>true negative</th>\n",
       "      <td>127.00</td>\n",
       "      <td>11.00</td>\n",
       "      <td>138.0</td>\n",
       "    </tr>\n",
       "    <tr>\n",
       "      <th>true positive</th>\n",
       "      <td>26.00</td>\n",
       "      <td>59.00</td>\n",
       "      <td>85.0</td>\n",
       "    </tr>\n",
       "    <tr>\n",
       "      <th>total</th>\n",
       "      <td>153.00</td>\n",
       "      <td>70.00</td>\n",
       "      <td>223.0</td>\n",
       "    </tr>\n",
       "    <tr>\n",
       "      <th>precision</th>\n",
       "      <td>0.83</td>\n",
       "      <td>0.84</td>\n",
       "      <td>NaN</td>\n",
       "    </tr>\n",
       "  </tbody>\n",
       "</table>\n",
       "</div>"
      ],
      "text/plain": [
       "               predictive negative  predictive positive  total\n",
       "true negative               127.00                11.00  138.0\n",
       "true positive                26.00                59.00   85.0\n",
       "total                       153.00                70.00  223.0\n",
       "precision                     0.83                 0.84    NaN"
      ]
     },
     "execution_count": 28,
     "metadata": {},
     "output_type": "execute_result"
    },
    {
     "data": {
      "image/png": "[encoded data removed]",
      "text/plain": [
       "<Figure size 432x288 with 2 Axes>"
      ]
     },
     "metadata": {
      "needs_background": "light"
     },
     "output_type": "display_data"
    }
   ],
   "source": [
    "y_pred=rf_model.predict(val_X)\n",
    "conf_mat=confusion_matrix(val_y,y_pred)\n",
    "\n",
    "conf_df=pd.DataFrame(conf_mat,\n",
    "                     columns=['predictive negative','predictive positive'],\n",
    "                     index=['true negative','true positive'])\n",
    "conf_df['total']=conf_df.sum(axis=1)\n",
    "conf_df.loc['total']=conf_df.sum(axis=0)\n",
    "\n",
    "conf_df.loc['precision',['predictive negative']]=conf_df.loc['true negative',['predictive negative']]/conf_df.loc['total',['predictive negative']]\n",
    "conf_df.loc['precision',['predictive positive']]=conf_df.loc['true positive',['predictive positive']]/conf_df.loc['total',['predictive positive']]\n",
    "\n",
    "conf_df=conf_df.applymap(lambda x: int(x) if x.is_integer() else np.round(x,2))\n",
    "\n",
    "sns.heatmap(conf_df,annot=True,linewidths=2)\n",
    "conf_df"
   ]
  },
  {
   "cell_type": "code",
   "execution_count": 29,
   "id": "frequent-stereo",
   "metadata": {
    "execution": {
     "iopub.execute_input": "2021-07-25T08:25:31.673326Z",
     "iopub.status.busy": "2021-07-25T08:25:31.672260Z",
     "iopub.status.idle": "2021-07-25T08:25:34.443652Z",
     "shell.execute_reply": "2021-07-25T08:25:34.443109Z",
     "shell.execute_reply.started": "2021-05-27T15:21:44.565477Z"
    },
    "papermill": {
     "duration": 2.829833,
     "end_time": "2021-07-25T08:25:34.443822",
     "exception": false,
     "start_time": "2021-07-25T08:25:31.613989",
     "status": "completed"
    },
    "tags": []
   },
   "outputs": [
    {
     "data": {
      "text/html": [
       "\n",
       "    <style>\n",
       "    table.eli5-weights tr:hover {\n",
       "        filter: brightness(85%);\n",
       "    }\n",
       "</style>\n",
       "\n",
       "\n",
       "\n",
       "    \n",
       "\n",
       "    \n",
       "\n",
       "    \n",
       "\n",
       "    \n",
       "\n",
       "    \n",
       "\n",
       "    \n",
       "\n",
       "\n",
       "    \n",
       "\n",
       "    \n",
       "\n",
       "    \n",
       "\n",
       "    \n",
       "\n",
       "    \n",
       "\n",
       "    \n",
       "\n",
       "\n",
       "    \n",
       "\n",
       "    \n",
       "\n",
       "    \n",
       "\n",
       "    \n",
       "\n",
       "    \n",
       "        <table class=\"eli5-weights eli5-feature-importances\" style=\"border-collapse: collapse; border: none; margin-top: 0em; table-layout: auto;\">\n",
       "    <thead>\n",
       "    <tr style=\"border: none;\">\n",
       "        <th style=\"padding: 0 1em 0 0.5em; text-align: right; border: none;\">Weight</th>\n",
       "        <th style=\"padding: 0 0.5em 0 0.5em; text-align: left; border: none;\">Feature</th>\n",
       "    </tr>\n",
       "    </thead>\n",
       "    <tbody>\n",
       "    \n",
       "        <tr style=\"background-color: hsl(120, 100.00%, 80.00%); border: none;\">\n",
       "            <td style=\"padding: 0 1em 0 0.5em; text-align: right; border: none;\">\n",
       "                0.2444\n",
       "                \n",
       "                    &plusmn; 0.0133\n",
       "                \n",
       "            </td>\n",
       "            <td style=\"padding: 0 0.5em 0 0.5em; text-align: left; border: none;\">\n",
       "                Sex\n",
       "            </td>\n",
       "        </tr>\n",
       "    \n",
       "        <tr style=\"background-color: hsl(120, 100.00%, 92.72%); border: none;\">\n",
       "            <td style=\"padding: 0 1em 0 0.5em; text-align: right; border: none;\">\n",
       "                0.0577\n",
       "                \n",
       "                    &plusmn; 0.0060\n",
       "                \n",
       "            </td>\n",
       "            <td style=\"padding: 0 0.5em 0 0.5em; text-align: left; border: none;\">\n",
       "                prob_survival\n",
       "            </td>\n",
       "        </tr>\n",
       "    \n",
       "        <tr style=\"background-color: hsl(120, 100.00%, 95.17%); border: none;\">\n",
       "            <td style=\"padding: 0 1em 0 0.5em; text-align: right; border: none;\">\n",
       "                0.0321\n",
       "                \n",
       "                    &plusmn; 0.0109\n",
       "                \n",
       "            </td>\n",
       "            <td style=\"padding: 0 0.5em 0 0.5em; text-align: left; border: none;\">\n",
       "                Pclass\n",
       "            </td>\n",
       "        </tr>\n",
       "    \n",
       "        <tr style=\"background-color: hsl(120, 100.00%, 97.31%); border: none;\">\n",
       "            <td style=\"padding: 0 1em 0 0.5em; text-align: right; border: none;\">\n",
       "                0.0139\n",
       "                \n",
       "                    &plusmn; 0.0097\n",
       "                \n",
       "            </td>\n",
       "            <td style=\"padding: 0 0.5em 0 0.5em; text-align: left; border: none;\">\n",
       "                Age\n",
       "            </td>\n",
       "        </tr>\n",
       "    \n",
       "        <tr style=\"background-color: hsl(120, 100.00%, 99.54%); border: none;\">\n",
       "            <td style=\"padding: 0 1em 0 0.5em; text-align: right; border: none;\">\n",
       "                0.0011\n",
       "                \n",
       "                    &plusmn; 0.0032\n",
       "                \n",
       "            </td>\n",
       "            <td style=\"padding: 0 0.5em 0 0.5em; text-align: left; border: none;\">\n",
       "                fare_per_fsize\n",
       "            </td>\n",
       "        </tr>\n",
       "    \n",
       "    \n",
       "    </tbody>\n",
       "</table>\n",
       "    \n",
       "\n",
       "    \n",
       "\n",
       "\n",
       "    \n",
       "\n",
       "    \n",
       "\n",
       "    \n",
       "\n",
       "    \n",
       "\n",
       "    \n",
       "\n",
       "    \n",
       "\n",
       "\n",
       "\n"
      ],
      "text/plain": [
       "<IPython.core.display.HTML object>"
      ]
     },
     "execution_count": 29,
     "metadata": {},
     "output_type": "execute_result"
    }
   ],
   "source": [
    "#rf_model=forest_classifier\n",
    "perm = PermutationImportance(rf_model, random_state=1).fit(X_train,y_train)\n",
    "eli5.show_weights(perm, feature_names = total_df.drop(columns=drop_features).columns.values)"
   ]
  },
  {
   "cell_type": "code",
   "execution_count": 30,
   "id": "bacterial-simpson",
   "metadata": {
    "execution": {
     "iopub.execute_input": "2021-07-25T08:25:34.549244Z",
     "iopub.status.busy": "2021-07-25T08:25:34.548531Z",
     "iopub.status.idle": "2021-07-25T08:25:35.294830Z",
     "shell.execute_reply": "2021-07-25T08:25:35.294259Z",
     "shell.execute_reply.started": "2021-05-27T15:21:47.344825Z"
    },
    "papermill": {
     "duration": 0.801411,
     "end_time": "2021-07-25T08:25:35.294978",
     "exception": false,
     "start_time": "2021-07-25T08:25:34.493567",
     "status": "completed"
    },
    "tags": []
   },
   "outputs": [
    {
     "name": "stdout",
     "output_type": "stream",
     "text": [
      "Age 0 is around 5 years\n",
      "Age 1 is around 21 years\n",
      "Age 2 is around 34 years\n",
      "Age 3 is around 52 years\n"
     ]
    },
    {
     "data": {
      "image/png": "[encoded data removed]",
      "text/plain": [
       "<Figure size 1080x684 with 2 Axes>"
      ]
     },
     "metadata": {
      "needs_background": "light"
     },
     "output_type": "display_data"
    }
   ],
   "source": [
    "from pdpbox import pdp, get_dataset, info_plots\n",
    "\n",
    "age_classify\n",
    "#rf_model=forest_classifier\n",
    "\n",
    "feature_to_plot='Age'\n",
    "# Create the data that we will plot\n",
    "pdp_goals = pdp.pdp_isolate(model=rf_model, dataset=total_df[total_df['trainable']==1],\n",
    "                            feature=feature_to_plot,\n",
    "                            model_features=total_df.drop(columns=drop_features).columns)\n",
    "\n",
    "for index,age in enumerate(age_clusters):\n",
    "    print(f'Age {index} is around {int(age)} years')\n",
    "\n",
    "\n",
    "# plot it\n",
    "pdp.pdp_plot(pdp_goals, feature_to_plot)\n",
    "plt.show()"
   ]
  },
  {
   "cell_type": "markdown",
   "id": "incorrect-tuesday",
   "metadata": {
    "papermill": {
     "duration": 0.050821,
     "end_time": "2021-07-25T08:25:35.396818",
     "exception": false,
     "start_time": "2021-07-25T08:25:35.345997",
     "status": "completed"
    },
    "tags": []
   },
   "source": [
    "The 2 figures above shows that the model learned the relationship between age and survival rate.<br/>\n",
    "In the titanic (or the movie at least), the priority was women and children. The graph and plot shows that the kids of age around 5 had a better chance of surviving. For those around 21 and 34 had less surviving chances. Yet, they were higher than people of age around 52 and higher. It is typical that the older the person the less its ability to survive and they sacrifice for the younger generation.<br/>\n",
    "The curves shows that as the age increases, the surviving chances decreases. I think it is logical enough."
   ]
  },
  {
   "cell_type": "code",
   "execution_count": 31,
   "id": "loaded-adelaide",
   "metadata": {
    "execution": {
     "iopub.execute_input": "2021-07-25T08:25:35.510588Z",
     "iopub.status.busy": "2021-07-25T08:25:35.505092Z",
     "iopub.status.idle": "2021-07-25T08:25:35.942002Z",
     "shell.execute_reply": "2021-07-25T08:25:35.941344Z",
     "shell.execute_reply.started": "2021-05-27T15:21:48.310826Z"
    },
    "papermill": {
     "duration": 0.494443,
     "end_time": "2021-07-25T08:25:35.942143",
     "exception": false,
     "start_time": "2021-07-25T08:25:35.447700",
     "status": "completed"
    },
    "tags": []
   },
   "outputs": [
    {
     "name": "stdout",
     "output_type": "stream",
     "text": [
      "Sex 0 is female\n",
      "Sex 1 is male\n"
     ]
    },
    {
     "data": {
      "image/png": "[encoded data removed]",
      "text/plain": [
       "<Figure size 1080x684 with 2 Axes>"
      ]
     },
     "metadata": {
      "needs_background": "light"
     },
     "output_type": "display_data"
    }
   ],
   "source": [
    "#rf_model=forest_classifier\n",
    "\n",
    "feature_to_plot='Sex'\n",
    "# Create the data that we will plot\n",
    "pdp_goals = pdp.pdp_isolate(model=rf_model, dataset=total_df[total_df['trainable']==1],\n",
    "                            feature=feature_to_plot,\n",
    "                            model_features=total_df.drop(columns=drop_features).columns,)\n",
    "\n",
    "print(f'Sex 0 is female')\n",
    "print(f'Sex 1 is male')\n",
    "\n",
    "# plot it\n",
    "pdp.pdp_plot(pdp_goals, feature_to_plot)\n",
    "plt.show()"
   ]
  },
  {
   "cell_type": "markdown",
   "id": "interested-greeting",
   "metadata": {
    "papermill": {
     "duration": 0.052457,
     "end_time": "2021-07-25T08:25:36.047441",
     "exception": false,
     "start_time": "2021-07-25T08:25:35.994984",
     "status": "completed"
    },
    "tags": []
   },
   "source": [
    "From the first section we know females had better chance to survive than men. This relation was learned by the model."
   ]
  },
  {
   "cell_type": "code",
   "execution_count": 32,
   "id": "random-speed",
   "metadata": {
    "execution": {
     "iopub.execute_input": "2021-07-25T08:25:36.163614Z",
     "iopub.status.busy": "2021-07-25T08:25:36.162870Z",
     "iopub.status.idle": "2021-07-25T08:25:36.884214Z",
     "shell.execute_reply": "2021-07-25T08:25:36.884692Z",
     "shell.execute_reply.started": "2021-05-27T15:21:48.759029Z"
    },
    "papermill": {
     "duration": 0.783263,
     "end_time": "2021-07-25T08:25:36.884902",
     "exception": false,
     "start_time": "2021-07-25T08:25:36.101639",
     "status": "completed"
    },
    "tags": []
   },
   "outputs": [
    {
     "name": "stdout",
     "output_type": "stream",
     "text": [
      "prob_survival 0 is around 0.5\n",
      "prob_survival 1 is around 0.583\n",
      "prob_survival 2 is around 0.599\n",
      "prob_survival 3 is around 0.622\n",
      "prob_survival 4 is around 0.661\n",
      "prob_survival 5 is around 0.697\n",
      "prob_survival 6 is around 0.731\n"
     ]
    },
    {
     "data": {
      "image/png": "[encoded data removed]",
      "text/plain": [
       "<Figure size 1080x684 with 2 Axes>"
      ]
     },
     "metadata": {
      "needs_background": "light"
     },
     "output_type": "display_data"
    }
   ],
   "source": [
    "#rf_model=forest_classifier\n",
    "\n",
    "feature_to_plot='prob_survival'\n",
    "# Create the data that we will plot\n",
    "pdp_goals = pdp.pdp_isolate(model=rf_model, dataset=total_df[total_df['trainable']==1],\n",
    "                            feature=feature_to_plot,\n",
    "                            model_features=total_df.drop(columns=drop_features).columns)\n",
    "\n",
    "# print(prob_survival_clusters)\n",
    "for index,val in enumerate(prob_survival_clusters):\n",
    "    print(f'prob_survival {index} is around {np.round(prob_survival_clusters[index],3)}')\n",
    "# plot it\n",
    "pdp.pdp_plot(pdp_goals, feature_to_plot)\n",
    "plt.show()"
   ]
  },
  {
   "cell_type": "markdown",
   "id": "fleet-general",
   "metadata": {
    "papermill": {
     "duration": 0.054975,
     "end_time": "2021-07-25T08:25:36.994765",
     "exception": false,
     "start_time": "2021-07-25T08:25:36.939790",
     "status": "completed"
    },
    "tags": []
   },
   "source": [
    "It is expected that as probability of survival increases, the better the chance of actually surviving."
   ]
  },
  {
   "cell_type": "code",
   "execution_count": 33,
   "id": "sporting-factory",
   "metadata": {
    "execution": {
     "iopub.execute_input": "2021-07-25T08:25:37.113801Z",
     "iopub.status.busy": "2021-07-25T08:25:37.111674Z",
     "iopub.status.idle": "2021-07-25T08:25:37.775280Z",
     "shell.execute_reply": "2021-07-25T08:25:37.774238Z",
     "shell.execute_reply.started": "2021-05-27T15:21:49.509706Z"
    },
    "papermill": {
     "duration": 0.725578,
     "end_time": "2021-07-25T08:25:37.775436",
     "exception": false,
     "start_time": "2021-07-25T08:25:37.049858",
     "status": "completed"
    },
    "tags": []
   },
   "outputs": [
    {
     "name": "stdout",
     "output_type": "stream",
     "text": [
      "fare_per_fsize 0 is around 0.956\n",
      "fare_per_fsize 1 is around 2.235\n",
      "fare_per_fsize 2 is around 3.846\n"
     ]
    },
    {
     "data": {
      "image/png": "[encoded data removed]",
      "text/plain": [
       "<Figure size 1080x684 with 2 Axes>"
      ]
     },
     "metadata": {
      "needs_background": "light"
     },
     "output_type": "display_data"
    }
   ],
   "source": [
    "#rf_model=forest_classifier\n",
    "\n",
    "feature_to_plot='fare_per_fsize'\n",
    "# Create the data that we will plot\n",
    "pdp_goals = pdp.pdp_isolate(model=rf_model, dataset=total_df[total_df['trainable']==1],\n",
    "                            feature=feature_to_plot,\n",
    "                            model_features=total_df.drop(columns=drop_features).columns)\n",
    "\n",
    "for index,val in enumerate(fare_clusters):\n",
    "    print(f'fare_per_fsize {index} is around {np.round(fare_clusters[index],3)}')\n",
    "    \n",
    "# plot it\n",
    "pdp.pdp_plot(pdp_goals, feature_to_plot)\n",
    "\n",
    "plt.show()"
   ]
  },
  {
   "cell_type": "markdown",
   "id": "worst-repository",
   "metadata": {
    "papermill": {
     "duration": 0.059962,
     "end_time": "2021-07-25T08:25:37.899157",
     "exception": false,
     "start_time": "2021-07-25T08:25:37.839195",
     "status": "completed"
    },
    "tags": []
   },
   "source": [
    "we can treate this feature as log fare per family member. As fare increases, the richer the person. According to the plots, the richier the person, the higher the surviving chance. Sure there is an element of randomness (specially that the priority was to save women and children and then men) which can be seen between 0 and 2."
   ]
  },
  {
   "cell_type": "code",
   "execution_count": 34,
   "id": "committed-mauritius",
   "metadata": {
    "execution": {
     "iopub.execute_input": "2021-07-25T08:25:38.024966Z",
     "iopub.status.busy": "2021-07-25T08:25:38.023883Z",
     "iopub.status.idle": "2021-07-25T08:25:38.636987Z",
     "shell.execute_reply": "2021-07-25T08:25:38.635896Z",
     "shell.execute_reply.started": "2021-05-27T15:21:50.161463Z"
    },
    "papermill": {
     "duration": 0.679926,
     "end_time": "2021-07-25T08:25:38.637145",
     "exception": false,
     "start_time": "2021-07-25T08:25:37.957219",
     "status": "completed"
    },
    "tags": []
   },
   "outputs": [
    {
     "data": {
      "image/png": "[encoded data removed]",
      "text/plain": [
       "<Figure size 1080x684 with 2 Axes>"
      ]
     },
     "metadata": {
      "needs_background": "light"
     },
     "output_type": "display_data"
    }
   ],
   "source": [
    "#rf_model=forest_classifier\n",
    "\n",
    "feature_to_plot='Pclass'\n",
    "# Create the data that we will plot\n",
    "pdp_goals = pdp.pdp_isolate(model=rf_model, dataset=total_df[total_df['trainable']==1],\n",
    "                            feature=feature_to_plot,\n",
    "                            model_features=total_df.drop(columns=drop_features).columns)\n",
    "\n",
    "# plot it\n",
    "pdp.pdp_plot(pdp_goals, feature_to_plot)\n",
    "plt.show()"
   ]
  },
  {
   "cell_type": "markdown",
   "id": "correct-guidance",
   "metadata": {
    "papermill": {
     "duration": 0.060654,
     "end_time": "2021-07-25T08:25:38.756944",
     "exception": false,
     "start_time": "2021-07-25T08:25:38.696290",
     "status": "completed"
    },
    "tags": []
   },
   "source": [
    "This plot also verifies the relation between surviving and Pclass. class 1 is higher than class 2 higher than class 3. the higher the class, the higher the surviving chances."
   ]
  },
  {
   "cell_type": "markdown",
   "id": "entertaining-muscle",
   "metadata": {
    "papermill": {
     "duration": 0.058992,
     "end_time": "2021-07-25T08:25:38.876045",
     "exception": false,
     "start_time": "2021-07-25T08:25:38.817053",
     "status": "completed"
    },
    "tags": []
   },
   "source": [
    "<h1 style=\"color: #00FF00\"> CONCLUSION </h1>\n",
    "As an overall, the model did learn the same information we saw while visualizing the data. Thus, the model did learn useful relationships from the data. I hope this notebook helps you."
   ]
  }
 ],
 "metadata": {
  "kernelspec": {
   "display_name": "Python 3",
   "language": "python",
   "name": "python3"
  },
  "language_info": {
   "codemirror_mode": {
    "name": "ipython",
    "version": 3
   },
   "file_extension": ".py",
   "mimetype": "text/x-python",
   "name": "python",
   "nbconvert_exporter": "python",
   "pygments_lexer": "ipython3",
   "version": "3.7.9"
  },
  "papermill": {
   "default_parameters": {},
   "duration": 33.502313,
   "end_time": "2021-07-25T08:25:40.148182",
   "environment_variables": {},
   "exception": null,
   "input_path": "__notebook__.ipynb",
   "output_path": "__notebook__.ipynb",
   "parameters": {},
   "start_time": "2021-07-25T08:25:06.645869",
   "version": "2.3.2"
  }
 },
 "nbformat": 4,
 "nbformat_minor": 5
}
